{
 "cells": [
  {
   "cell_type": "markdown",
   "metadata": {},
   "source": [
    "# Data Sourcing & Cleaning\n",
    "<h1>Table of Contents<span class=\"tocSkip\"></span></h1>\n",
    "<div class=\"toc\"><ul class=\"toc-item\"><li><span><a href=\"#Introduction\" data-toc-modified-id=\"Introduction-1\"><span class=\"toc-item-num\">1&nbsp;&nbsp;</span>Introduction</a></span></li><li><span><a href=\"#Get-Data:-Fire-Incidents\" data-toc-modified-id=\"Get-Data:-Fire-Incidents-2\"><span class=\"toc-item-num\">2&nbsp;&nbsp;</span>Get Data: Fire Incidents</a></span></li><li><span><a href=\"#Data-Cleaning\" data-toc-modified-id=\"Data-Cleaning-3\"><span class=\"toc-item-num\">3&nbsp;&nbsp;</span>Data Cleaning</a></span><ul class=\"toc-item\"><li><span><a href=\"#Missing-&amp;-duplicated-values\" data-toc-modified-id=\"Missing-&amp;-duplicated-values-3.1\"><span class=\"toc-item-num\">3.1&nbsp;&nbsp;</span>Missing &amp; duplicated values</a></span></li><li><span><a href=\"#Data-types\" data-toc-modified-id=\"Data-types-3.2\"><span class=\"toc-item-num\">3.2&nbsp;&nbsp;</span>Data types</a></span></li><li><span><a href=\"#Distribution-of-values-&amp;-outliers\" data-toc-modified-id=\"Distribution-of-values-&amp;-outliers-3.3\"><span class=\"toc-item-num\">3.3&nbsp;&nbsp;</span>Distribution of values &amp; outliers</a></span><ul class=\"toc-item\"><li><span><a href=\"#Dates\" data-toc-modified-id=\"Dates-3.3.1\"><span class=\"toc-item-num\">3.3.1&nbsp;&nbsp;</span>Dates</a></span></li><li><span><a href=\"#Acres-burned\" data-toc-modified-id=\"Acres-burned-3.3.2\"><span class=\"toc-item-num\">3.3.2&nbsp;&nbsp;</span>Acres burned</a></span></li><li><span><a href=\"#Coordinates\" data-toc-modified-id=\"Coordinates-3.3.3\"><span class=\"toc-item-num\">3.3.3&nbsp;&nbsp;</span>Coordinates</a></span></li></ul></li></ul></li><li><span><a href=\"#Get-Data:-Weather\" data-toc-modified-id=\"Get-Data:-Weather-4\"><span class=\"toc-item-num\">4&nbsp;&nbsp;</span>Get Data: Weather</a></span></li><li><span><a href=\"#Data-Cleaning\" data-toc-modified-id=\"Data-Cleaning-5\"><span class=\"toc-item-num\">5&nbsp;&nbsp;</span>Data Cleaning</a></span></li></ul></div>"
   ]
  },
  {
   "cell_type": "markdown",
   "metadata": {
    "collapsed": "false"
   },
   "source": [
    "## Introduction\n",
    "In this notebook, we'll be going through several steps to get our data and clean it.  \n",
    "\n",
    "Data sourcing steps include:\n",
    "* Web-scraping CalFire's website for fire incident data\n",
    "* Making API requests through DarkSky for weather data on the date of each fire incident\n",
    "\n",
    "The output of this notebook will be a clean pandas dataframe with both data sources."
   ]
  },
  {
   "cell_type": "markdown",
   "metadata": {
    "collapsed": "false"
   },
   "source": [
    "## Import libraries"
   ]
  },
  {
   "cell_type": "code",
   "execution_count": 1,
   "metadata": {
    "ExecuteTime": {
     "end_time": "2020-04-02T02:53:28.593385Z",
     "start_time": "2020-04-02T02:53:27.556104Z"
    },
    "collapsed": true,
    "jupyter": {
     "outputs_hidden": true
    }
   },
   "outputs": [
    {
     "name": "stdout",
     "output_type": "stream",
     "text": [
      "Pandas version: 1.0.3\n"
     ]
    }
   ],
   "source": [
    "# data analysis & manipulation\n",
    "import pandas as pd\n",
    "import numpy as np\n",
    "import geopandas\n",
    "\n",
    "# web scraping\n",
    "import requests\n",
    "from bs4 import BeautifulSoup\n",
    "\n",
    "# tools\n",
    "import re\n",
    "import pickle\n",
    "\n",
    "# visualizations\n",
    "import matplotlib.pyplot as plt\n",
    "%matplotlib inline\n",
    "\n",
    "print('Pandas version:', pd.__version__)"
   ]
  },
  {
   "cell_type": "markdown",
   "metadata": {
    "collapsed": "false",
    "heading_collapsed": true
   },
   "source": [
    "## Get Data: Fire Incidents"
   ]
  },
  {
   "cell_type": "markdown",
   "metadata": {
    "collapsed": "false",
    "hidden": true
   },
   "source": [
    "We're going to be getting our fire incidents data for the past 7 years from <www.fire.ca.gov>. \n",
    "\n",
    "First, let's construct the urls we'll be pulling data from."
   ]
  },
  {
   "cell_type": "code",
   "execution_count": 2,
   "metadata": {
    "ExecuteTime": {
     "end_time": "2020-01-23T05:38:41.881201Z",
     "start_time": "2020-01-23T05:38:40.238870Z"
    },
    "collapsed": true,
    "hidden": true,
    "jupyter": {
     "outputs_hidden": true
    }
   },
   "outputs": [
    {
     "name": "stdout",
     "output_type": "stream",
     "text": [
      "['https://www.fire.ca.gov/incidents/2020', 'https://www.fire.ca.gov/incidents/2019', 'https://www.fire.ca.gov/incidents/2018', 'https://www.fire.ca.gov/incidents/2017', 'https://www.fire.ca.gov/incidents/2016', 'https://www.fire.ca.gov/incidents/2015', 'https://www.fire.ca.gov/incidents/2014', 'https://www.fire.ca.gov/incidents/2013']\n"
     ]
    }
   ],
   "source": [
    "def construct_url_fire():\n",
    "    '''Returns a list of fire incident urls.'''\n",
    "    years = ['2020', '2019', '2018', '2017', '2016', '2015', '2014', '2013']\n",
    "    domain = 'https://www.fire.ca.gov/incidents/'\n",
    "    urls = [domain + y for y in years]\n",
    "    return urls\n",
    "\n",
    "urls = construct_url_fire()\n",
    "print(urls)"
   ]
  },
  {
   "cell_type": "markdown",
   "metadata": {
    "collapsed": "false",
    "hidden": true
   },
   "source": [
    "Now that we have our urls, we'll make a request for each fire incidents page and make soup using the [Requests](https://2.python-requests.org/en/master/) and [BeautifulSoup](https://www.crummy.com/software/BeautifulSoup/bs4/doc/) libraries, respectively.\n",
    "\n",
    "Beautiful Soup transforms a complex HTML document into a complex tree of Python objects."
   ]
  },
  {
   "cell_type": "code",
   "execution_count": 3,
   "metadata": {
    "collapsed": true,
    "hidden": true,
    "jupyter": {
     "outputs_hidden": true
    }
   },
   "outputs": [
    {
     "name": "stdout",
     "output_type": "stream",
     "text": [
      "200 https://www.fire.ca.gov/incidents/2020\n",
      "200 https://www.fire.ca.gov/incidents/2019\n",
      "200 https://www.fire.ca.gov/incidents/2018\n",
      "200 https://www.fire.ca.gov/incidents/2017\n",
      "200 https://www.fire.ca.gov/incidents/2016\n",
      "200 https://www.fire.ca.gov/incidents/2015\n",
      "200 https://www.fire.ca.gov/incidents/2014\n",
      "200 https://www.fire.ca.gov/incidents/2013\n"
     ]
    }
   ],
   "source": [
    "def make_soup(urls):\n",
    "    '''Input urls and return a list of soup objects.'''\n",
    "    soups = []\n",
    "    for url in urls:\n",
    "        # make request\n",
    "        response = requests.get(url)\n",
    "        print(response.status_code, url)\n",
    "        # encode text\n",
    "        page = response.text\n",
    "        # make soup\n",
    "        soup = BeautifulSoup(page, 'lxml')\n",
    "        soups.append(soup)\n",
    "    return soups\n",
    "\n",
    "soups = make_soup(urls)"
   ]
  },
  {
   "cell_type": "markdown",
   "metadata": {
    "collapsed": "false",
    "hidden": true
   },
   "source": [
    "The status code '200' indicates a successful request and it looks like we were able to successfully get all the data.\n",
    "\n",
    "Now that we have our BeautifulSoup objects in a list, we need to extract the fire incidents data which is in a javascript variable named *'incidentListTableInitialData'* within the HTML object.\n",
    "\n",
    "We'll be using a regular expression to find the aforementioned fire incidents data and append it to a list."
   ]
  },
  {
   "cell_type": "code",
   "execution_count": 4,
   "metadata": {
    "collapsed": true,
    "hidden": true,
    "jupyter": {
     "outputs_hidden": true
    }
   },
   "outputs": [
    {
     "name": "stdout",
     "output_type": "stream",
     "text": [
      "Length of list: 8\n"
     ]
    }
   ],
   "source": [
    "def get_json():\n",
    "    '''Input soups and return a list of json-like objects.'''\n",
    "    json_list = []\n",
    "    for ix, soup in enumerate(soups):\n",
    "        # regex to find the incidents table\n",
    "        regex = '(?<=incidentListTableInitialData = \\[)\\{.+}(?=];)'\n",
    "        # return match within soup object  \n",
    "        json_list.append(re.findall(regex, soup.text)[0])\n",
    "    return json_list\n",
    "\n",
    "json_list = get_json()\n",
    "print('Length of list:', len(json_list))"
   ]
  },
  {
   "cell_type": "markdown",
   "metadata": {
    "collapsed": "false",
    "hidden": true
   },
   "source": [
    "Let's create our first dataframe."
   ]
  },
  {
   "cell_type": "code",
   "execution_count": 5,
   "metadata": {
    "collapsed": true,
    "hidden": true,
    "jupyter": {
     "outputs_hidden": true
    }
   },
   "outputs": [
    {
     "name": "stdout",
     "output_type": "stream",
     "text": [
      "(1635, 40)\n"
     ]
    }
   ],
   "source": [
    "def create_dataframe(json_list):\n",
    "    '''Convert list of JSON strings to a pandas dataframe.'''\n",
    "    df_list = []\n",
    "    for item in json_list:\n",
    "        # create df from each json object (one per year)\n",
    "        json_df = pd.read_json(item, lines=True)\n",
    "        df_list.append(json_df)\n",
    "    # concatenate all json dataframes\n",
    "    df = pd.concat(df_list)\n",
    "    return df\n",
    "\n",
    "fire_df = create_dataframe(json_list)\n",
    "print(fire_df.shape)"
   ]
  },
  {
   "cell_type": "code",
   "execution_count": 6,
   "metadata": {
    "collapsed": true,
    "jupyter": {
     "outputs_hidden": true
    }
   },
   "outputs": [],
   "source": [
    "# pickle\n",
    "fire_df.to_pickle('../data/01_fire_df.pkl')"
   ]
  },
  {
   "cell_type": "markdown",
   "metadata": {
    "collapsed": "false"
   },
   "source": [
    "## Data cleaning"
   ]
  },
  {
   "cell_type": "markdown",
   "metadata": {
    "collapsed": "false"
   },
   "source": [
    "With our first dataframe created, we can explore it a bit to see what needs cleaning. "
   ]
  },
  {
   "cell_type": "markdown",
   "metadata": {
    "collapsed": "false"
   },
   "source": [
    "We'll set a shortened `UniqueId` as the index."
   ]
  },
  {
   "cell_type": "code",
   "execution_count": 7,
   "metadata": {
    "collapsed": true,
    "jupyter": {
     "outputs_hidden": true
    }
   },
   "outputs": [
    {
     "data": {
      "text/html": [
       "<div>\n",
       "<style scoped>\n",
       "    .dataframe tbody tr th:only-of-type {\n",
       "        vertical-align: middle;\n",
       "    }\n",
       "\n",
       "    .dataframe tbody tr th {\n",
       "        vertical-align: top;\n",
       "    }\n",
       "\n",
       "    .dataframe thead th {\n",
       "        text-align: right;\n",
       "    }\n",
       "</style>\n",
       "<table border=\"1\" class=\"dataframe\">\n",
       "  <thead>\n",
       "    <tr style=\"text-align: right;\">\n",
       "      <th></th>\n",
       "      <th>Name</th>\n",
       "      <th>Location</th>\n",
       "      <th>Latitude</th>\n",
       "      <th>Longitude</th>\n",
       "      <th>AcresBurned</th>\n",
       "      <th>FuelType</th>\n",
       "      <th>PercentContained</th>\n",
       "      <th>ControlStatement</th>\n",
       "      <th>ConditionStatement</th>\n",
       "      <th>Counties</th>\n",
       "      <th>...</th>\n",
       "      <th>StructuresEvacuated</th>\n",
       "      <th>PersonnelInvolved</th>\n",
       "      <th>CrewsInvolved</th>\n",
       "      <th>Injuries</th>\n",
       "      <th>Fatalities</th>\n",
       "      <th>Helicopters</th>\n",
       "      <th>Engines</th>\n",
       "      <th>Dozers</th>\n",
       "      <th>WaterTenders</th>\n",
       "      <th>AirTankers</th>\n",
       "    </tr>\n",
       "  </thead>\n",
       "  <tbody>\n",
       "    <tr>\n",
       "      <th>5c3935</th>\n",
       "      <td>Bear Fire</td>\n",
       "      <td>Bear Creek Road and Anderson Ford Road, Northw...</td>\n",
       "      <td>40.511092</td>\n",
       "      <td>-123.637841</td>\n",
       "      <td>15.0</td>\n",
       "      <td>NaN</td>\n",
       "      <td>100.0</td>\n",
       "      <td>NaN</td>\n",
       "      <td>NaN</td>\n",
       "      <td>[Humboldt]</td>\n",
       "      <td>...</td>\n",
       "      <td>NaN</td>\n",
       "      <td>NaN</td>\n",
       "      <td>NaN</td>\n",
       "      <td>NaN</td>\n",
       "      <td>NaN</td>\n",
       "      <td>NaN</td>\n",
       "      <td>NaN</td>\n",
       "      <td>NaN</td>\n",
       "      <td>NaN</td>\n",
       "      <td>NaN</td>\n",
       "    </tr>\n",
       "    <tr>\n",
       "      <th>116827</th>\n",
       "      <td>Antelope Fire</td>\n",
       "      <td>Hwy 49 and Fillippini Road, Sierraville</td>\n",
       "      <td>39.692300</td>\n",
       "      <td>-120.329185</td>\n",
       "      <td>102.0</td>\n",
       "      <td>NaN</td>\n",
       "      <td>100.0</td>\n",
       "      <td>NaN</td>\n",
       "      <td>NaN</td>\n",
       "      <td>[Sierra]</td>\n",
       "      <td>...</td>\n",
       "      <td>NaN</td>\n",
       "      <td>NaN</td>\n",
       "      <td>NaN</td>\n",
       "      <td>NaN</td>\n",
       "      <td>NaN</td>\n",
       "      <td>NaN</td>\n",
       "      <td>NaN</td>\n",
       "      <td>NaN</td>\n",
       "      <td>NaN</td>\n",
       "      <td>NaN</td>\n",
       "    </tr>\n",
       "    <tr>\n",
       "      <th>ef6d63</th>\n",
       "      <td>Beegum Fire</td>\n",
       "      <td>Off of Highway 36 West and Tedoc Rd, West of R...</td>\n",
       "      <td>40.335833</td>\n",
       "      <td>-122.847222</td>\n",
       "      <td>75.0</td>\n",
       "      <td>NaN</td>\n",
       "      <td>100.0</td>\n",
       "      <td>NaN</td>\n",
       "      <td>NaN</td>\n",
       "      <td>[Tehama]</td>\n",
       "      <td>...</td>\n",
       "      <td>NaN</td>\n",
       "      <td>NaN</td>\n",
       "      <td>NaN</td>\n",
       "      <td>NaN</td>\n",
       "      <td>NaN</td>\n",
       "      <td>NaN</td>\n",
       "      <td>NaN</td>\n",
       "      <td>NaN</td>\n",
       "      <td>NaN</td>\n",
       "      <td>NaN</td>\n",
       "    </tr>\n",
       "    <tr>\n",
       "      <th>7c5912</th>\n",
       "      <td>Wood Fire</td>\n",
       "      <td>Off Horselake Road and Woodranch Road, East of...</td>\n",
       "      <td>40.621550</td>\n",
       "      <td>-120.493920</td>\n",
       "      <td>57.0</td>\n",
       "      <td>NaN</td>\n",
       "      <td>100.0</td>\n",
       "      <td>NaN</td>\n",
       "      <td>NaN</td>\n",
       "      <td>[Lassen]</td>\n",
       "      <td>...</td>\n",
       "      <td>NaN</td>\n",
       "      <td>NaN</td>\n",
       "      <td>NaN</td>\n",
       "      <td>NaN</td>\n",
       "      <td>NaN</td>\n",
       "      <td>NaN</td>\n",
       "      <td>NaN</td>\n",
       "      <td>NaN</td>\n",
       "      <td>NaN</td>\n",
       "      <td>NaN</td>\n",
       "    </tr>\n",
       "    <tr>\n",
       "      <th>74f110</th>\n",
       "      <td>Baseball Fire</td>\n",
       "      <td>Off Atchison Creek, East of Covelo</td>\n",
       "      <td>39.756389</td>\n",
       "      <td>-122.941111</td>\n",
       "      <td>211.0</td>\n",
       "      <td>NaN</td>\n",
       "      <td>100.0</td>\n",
       "      <td>NaN</td>\n",
       "      <td>NaN</td>\n",
       "      <td>[Glenn, Mendocino]</td>\n",
       "      <td>...</td>\n",
       "      <td>NaN</td>\n",
       "      <td>NaN</td>\n",
       "      <td>NaN</td>\n",
       "      <td>NaN</td>\n",
       "      <td>NaN</td>\n",
       "      <td>NaN</td>\n",
       "      <td>NaN</td>\n",
       "      <td>NaN</td>\n",
       "      <td>NaN</td>\n",
       "      <td>NaN</td>\n",
       "    </tr>\n",
       "  </tbody>\n",
       "</table>\n",
       "<p>5 rows × 39 columns</p>\n",
       "</div>"
      ],
      "text/plain": [
       "                 Name                                           Location  \\\n",
       "5c3935     Bear Fire   Bear Creek Road and Anderson Ford Road, Northw...   \n",
       "116827  Antelope Fire            Hwy 49 and Fillippini Road, Sierraville   \n",
       "ef6d63    Beegum Fire  Off of Highway 36 West and Tedoc Rd, West of R...   \n",
       "7c5912      Wood Fire  Off Horselake Road and Woodranch Road, East of...   \n",
       "74f110  Baseball Fire                 Off Atchison Creek, East of Covelo   \n",
       "\n",
       "         Latitude   Longitude  AcresBurned FuelType  PercentContained  \\\n",
       "5c3935  40.511092 -123.637841         15.0      NaN             100.0   \n",
       "116827  39.692300 -120.329185        102.0      NaN             100.0   \n",
       "ef6d63  40.335833 -122.847222         75.0      NaN             100.0   \n",
       "7c5912  40.621550 -120.493920         57.0      NaN             100.0   \n",
       "74f110  39.756389 -122.941111        211.0      NaN             100.0   \n",
       "\n",
       "       ControlStatement ConditionStatement            Counties  ...  \\\n",
       "5c3935              NaN                NaN          [Humboldt]  ...   \n",
       "116827              NaN                NaN            [Sierra]  ...   \n",
       "ef6d63              NaN                NaN            [Tehama]  ...   \n",
       "7c5912              NaN                NaN            [Lassen]  ...   \n",
       "74f110              NaN                NaN  [Glenn, Mendocino]  ...   \n",
       "\n",
       "       StructuresEvacuated PersonnelInvolved CrewsInvolved Injuries  \\\n",
       "5c3935                 NaN               NaN           NaN      NaN   \n",
       "116827                 NaN               NaN           NaN      NaN   \n",
       "ef6d63                 NaN               NaN           NaN      NaN   \n",
       "7c5912                 NaN               NaN           NaN      NaN   \n",
       "74f110                 NaN               NaN           NaN      NaN   \n",
       "\n",
       "       Fatalities Helicopters Engines  Dozers  WaterTenders  AirTankers  \n",
       "5c3935        NaN         NaN     NaN     NaN           NaN         NaN  \n",
       "116827        NaN         NaN     NaN     NaN           NaN         NaN  \n",
       "ef6d63        NaN         NaN     NaN     NaN           NaN         NaN  \n",
       "7c5912        NaN         NaN     NaN     NaN           NaN         NaN  \n",
       "74f110        NaN         NaN     NaN     NaN           NaN         NaN  \n",
       "\n",
       "[5 rows x 39 columns]"
      ]
     },
     "execution_count": 7,
     "metadata": {},
     "output_type": "execute_result"
    }
   ],
   "source": [
    "def get_last_6_id():\n",
    "    '''Return last 6 chars of unique id and set it as the index'''\n",
    "    fire_df['UniqueId'] = fire_df['UniqueId'].apply(lambda x: x[-6:])\n",
    "    fire_df.set_index('UniqueId', drop=True, inplace=True)\n",
    "    fire_df.index.name = None\n",
    "    \n",
    "get_last_6_id()\n",
    "fire_df.head()"
   ]
  },
  {
   "cell_type": "markdown",
   "metadata": {
    "collapsed": "false"
   },
   "source": [
    "### Missing & duplicated values"
   ]
  },
  {
   "cell_type": "code",
   "execution_count": 8,
   "metadata": {
    "ExecuteTime": {
     "end_time": "2020-04-02T02:53:36.044128Z",
     "start_time": "2020-04-02T02:53:35.685Z"
    },
    "collapsed": true,
    "jupyter": {
     "outputs_hidden": true
    }
   },
   "outputs": [
    {
     "data": {
      "text/plain": [
       "StructuresEvacuated     1635\n",
       "FuelType                1623\n",
       "Fatalities              1620\n",
       "StructuresThreatened    1611\n",
       "AirTankers              1606\n",
       "StructuresDamaged       1573\n",
       "Helicopters             1551\n",
       "Injuries                1524\n",
       "Dozers                  1513\n",
       "WaterTenders            1490\n",
       "StructuresDestroyed     1474\n",
       "CrewsInvolved           1467\n",
       "Engines                 1445\n",
       "PersonnelInvolved       1435\n",
       "ControlStatement         260\n",
       "ConditionStatement       208\n",
       "SearchKeywords           205\n",
       "Extinguished              64\n",
       "SearchDescription         19\n",
       "PercentContained           5\n",
       "AcresBurned                5\n",
       "Longitude                  0\n",
       "Latitude                   0\n",
       "Counties                   0\n",
       "CountyIds                  0\n",
       "Location                   0\n",
       "Active                     0\n",
       "AdminUnit                  0\n",
       "Updated                    0\n",
       "Started                    0\n",
       "ArchiveYear                0\n",
       "Public                     0\n",
       "Featured                   0\n",
       "CalFireIncident            0\n",
       "MajorIncident              0\n",
       "Final                      0\n",
       "Status                     0\n",
       "CanonicalUrl               0\n",
       "Name                       0\n",
       "dtype: int64"
      ]
     },
     "execution_count": 8,
     "metadata": {},
     "output_type": "execute_result"
    }
   ],
   "source": [
    "fire_df.isna().sum().sort_values(ascending=False)"
   ]
  },
  {
   "cell_type": "markdown",
   "metadata": {
    "collapsed": "false"
   },
   "source": [
    "We have several columns with many missing values.  \n",
    "\n",
    "Let's drop any columns that have less than 1571 non-null values. Why 1571? \n",
    "\n",
    "That's the count of non-null values for 'Extinguished' date which could be an important feature. There are 1634 total rows – most of the other features have significantly more null values."
   ]
  },
  {
   "cell_type": "code",
   "execution_count": 9,
   "metadata": {
    "ExecuteTime": {
     "end_time": "2020-04-02T02:53:36.802088Z",
     "start_time": "2020-04-02T02:53:36.778867Z"
    },
    "collapsed": true,
    "jupyter": {
     "outputs_hidden": true
    }
   },
   "outputs": [
    {
     "name": "stdout",
     "output_type": "stream",
     "text": [
      "Before (1635, 39)\n",
      "After (1558, 22)\n"
     ]
    }
   ],
   "source": [
    "def drop_missing():\n",
    "    '''Drop columns and rows with defined missing values and return dataframe.'''\n",
    "    # setting threshold to value of non-null 'Extinguished'\n",
    "    thresh = 1571\n",
    "    # drop columns with less than 1571 non-null values\n",
    "    fire_df_1 = fire_df.dropna(axis=1, thresh=thresh)\n",
    "    # drop all rows with any missing values\n",
    "    clean_fire_df = fire_df_1.dropna()\n",
    "    return clean_fire_df\n",
    "\n",
    "print('Before', fire_df.shape)\n",
    "fire_df = drop_missing()\n",
    "print('After', fire_df.shape)"
   ]
  },
  {
   "cell_type": "markdown",
   "metadata": {
    "collapsed": "false"
   },
   "source": [
    "We dropped 17 columns and 77 rows. Let's check for duplicated rows."
   ]
  },
  {
   "cell_type": "code",
   "execution_count": 10,
   "metadata": {
    "ExecuteTime": {
     "end_time": "2020-04-02T02:53:37.804261Z",
     "start_time": "2020-04-02T02:53:37.779109Z"
    },
    "collapsed": true,
    "jupyter": {
     "outputs_hidden": true
    }
   },
   "outputs": [
    {
     "data": {
      "text/plain": [
       "0"
      ]
     },
     "execution_count": 10,
     "metadata": {},
     "output_type": "execute_result"
    }
   ],
   "source": [
    "# check for duplicated rows\n",
    "# note: we need to drop 'Counties' as it's a list (unhashable)\n",
    "fire_df.drop(columns='Counties').duplicated().sum()"
   ]
  },
  {
   "cell_type": "markdown",
   "metadata": {
    "collapsed": "false"
   },
   "source": [
    "Let's drop columns that we won't be needing to reduce the scope. We might drop more columns later."
   ]
  },
  {
   "cell_type": "code",
   "execution_count": 11,
   "metadata": {
    "ExecuteTime": {
     "end_time": "2020-04-02T02:53:39.059218Z",
     "start_time": "2020-04-02T02:53:39.047156Z"
    },
    "collapsed": true,
    "jupyter": {
     "outputs_hidden": true
    }
   },
   "outputs": [
    {
     "name": "stdout",
     "output_type": "stream",
     "text": [
      "(1558, 10)\n"
     ]
    }
   ],
   "source": [
    "cols_drop = ['Location', 'PercentContained', 'CountyIds', 'SearchDescription', 'ArchiveYear', \n",
    "             'Public', 'Active', 'Featured', 'MajorIncident', 'Final', 'Status', 'CanonicalUrl'\n",
    "            ]\n",
    "def drop_columns(df, col_list):\n",
    "    '''Input list of columns to drop and return a dataframe.'''\n",
    "    df = df.drop(columns=cols_drop)\n",
    "    return df\n",
    "\n",
    "fire_df = drop_columns(fire_df, cols_drop)\n",
    "print(fire_df.shape)"
   ]
  },
  {
   "cell_type": "markdown",
   "metadata": {
    "collapsed": "false"
   },
   "source": [
    "### Data types"
   ]
  },
  {
   "cell_type": "markdown",
   "metadata": {
    "collapsed": "false"
   },
   "source": [
    "Let's convert our 11 features to the best data types."
   ]
  },
  {
   "cell_type": "code",
   "execution_count": 12,
   "metadata": {
    "ExecuteTime": {
     "end_time": "2020-04-02T02:53:40.858491Z",
     "start_time": "2020-04-02T02:53:40.833211Z"
    },
    "collapsed": true,
    "jupyter": {
     "outputs_hidden": true
    }
   },
   "outputs": [
    {
     "data": {
      "text/plain": [
       "Name                string\n",
       "Latitude           float64\n",
       "Longitude          float64\n",
       "AcresBurned          Int64\n",
       "Counties            object\n",
       "AdminUnit           string\n",
       "Updated             string\n",
       "Started             string\n",
       "Extinguished        string\n",
       "CalFireIncident    boolean\n",
       "dtype: object"
      ]
     },
     "execution_count": 12,
     "metadata": {},
     "output_type": "execute_result"
    }
   ],
   "source": [
    "fire_df = fire_df.convert_dtypes()\n",
    "fire_df.dtypes"
   ]
  },
  {
   "cell_type": "markdown",
   "metadata": {
    "collapsed": "false"
   },
   "source": [
    "The `convert_dtypes` function only converted some objects to strings.  \n",
    "\n",
    "We'll need to convert:\n",
    "* string dates to datetime objects\n",
    "* 'AdminUnit' to categorical"
   ]
  },
  {
   "cell_type": "code",
   "execution_count": 13,
   "metadata": {
    "ExecuteTime": {
     "end_time": "2020-04-02T02:53:41.565200Z",
     "start_time": "2020-04-02T02:53:41.536408Z"
    },
    "collapsed": true,
    "jupyter": {
     "outputs_hidden": true
    }
   },
   "outputs": [
    {
     "data": {
      "text/plain": [
       "Name                            string\n",
       "Latitude                       float64\n",
       "Longitude                      float64\n",
       "AcresBurned                      Int64\n",
       "Counties                        object\n",
       "AdminUnit                     category\n",
       "Updated            datetime64[ns, UTC]\n",
       "Started            datetime64[ns, UTC]\n",
       "Extinguished       datetime64[ns, UTC]\n",
       "CalFireIncident                boolean\n",
       "StartedOriginal                 object\n",
       "dtype: object"
      ]
     },
     "execution_count": 13,
     "metadata": {},
     "output_type": "execute_result"
    }
   ],
   "source": [
    "# save original 'Updated' column for later use\n",
    "fire_df['StartedOriginal'] = fire_df.loc[:, ['Started']]\n",
    "# convert to datetimes\n",
    "fire_df.loc[:, ['Updated', 'Started', 'Extinguished']] = fire_df.loc[:, ['Updated', 'Started', 'Extinguished']].apply(pd.to_datetime)\n",
    "# convert to categories\n",
    "fire_df['AdminUnit'] = fire_df['AdminUnit'].astype('category')\n",
    "fire_df.dtypes"
   ]
  },
  {
   "cell_type": "markdown",
   "metadata": {
    "collapsed": "false"
   },
   "source": [
    "### Distribution of values & outliers"
   ]
  },
  {
   "cell_type": "code",
   "execution_count": 14,
   "metadata": {
    "ExecuteTime": {
     "end_time": "2020-04-02T02:53:42.001000Z",
     "start_time": "2020-04-02T02:53:41.912043Z"
    },
    "collapsed": true,
    "jupyter": {
     "outputs_hidden": true
    }
   },
   "outputs": [
    {
     "data": {
      "text/html": [
       "<div>\n",
       "<style scoped>\n",
       "    .dataframe tbody tr th:only-of-type {\n",
       "        vertical-align: middle;\n",
       "    }\n",
       "\n",
       "    .dataframe tbody tr th {\n",
       "        vertical-align: top;\n",
       "    }\n",
       "\n",
       "    .dataframe thead th {\n",
       "        text-align: right;\n",
       "    }\n",
       "</style>\n",
       "<table border=\"1\" class=\"dataframe\">\n",
       "  <thead>\n",
       "    <tr style=\"text-align: right;\">\n",
       "      <th></th>\n",
       "      <th>Name</th>\n",
       "      <th>Latitude</th>\n",
       "      <th>Longitude</th>\n",
       "      <th>AcresBurned</th>\n",
       "      <th>AdminUnit</th>\n",
       "      <th>Updated</th>\n",
       "      <th>Started</th>\n",
       "      <th>Extinguished</th>\n",
       "      <th>CalFireIncident</th>\n",
       "      <th>StartedOriginal</th>\n",
       "    </tr>\n",
       "  </thead>\n",
       "  <tbody>\n",
       "    <tr>\n",
       "      <th>count</th>\n",
       "      <td>1558</td>\n",
       "      <td>1558.000000</td>\n",
       "      <td>1558.000000</td>\n",
       "      <td>1558.000000</td>\n",
       "      <td>1558</td>\n",
       "      <td>1558</td>\n",
       "      <td>1558</td>\n",
       "      <td>1558</td>\n",
       "      <td>1558</td>\n",
       "      <td>1558</td>\n",
       "    </tr>\n",
       "    <tr>\n",
       "      <th>unique</th>\n",
       "      <td>1156</td>\n",
       "      <td>NaN</td>\n",
       "      <td>NaN</td>\n",
       "      <td>NaN</td>\n",
       "      <td>482</td>\n",
       "      <td>1074</td>\n",
       "      <td>1546</td>\n",
       "      <td>1038</td>\n",
       "      <td>2</td>\n",
       "      <td>1546</td>\n",
       "    </tr>\n",
       "    <tr>\n",
       "      <th>top</th>\n",
       "      <td>Creek Fire</td>\n",
       "      <td>NaN</td>\n",
       "      <td>NaN</td>\n",
       "      <td>NaN</td>\n",
       "      <td>CAL FIRE Sonoma-Lake-Napa Unit</td>\n",
       "      <td>2018-01-09 13:46:00+00:00</td>\n",
       "      <td>2015-07-29 16:30:00+00:00</td>\n",
       "      <td>2018-01-09 13:46:00+00:00</td>\n",
       "      <td>True</td>\n",
       "      <td>2015-07-30T16:00:00Z</td>\n",
       "    </tr>\n",
       "    <tr>\n",
       "      <th>freq</th>\n",
       "      <td>14</td>\n",
       "      <td>NaN</td>\n",
       "      <td>NaN</td>\n",
       "      <td>NaN</td>\n",
       "      <td>80</td>\n",
       "      <td>7</td>\n",
       "      <td>2</td>\n",
       "      <td>7</td>\n",
       "      <td>1192</td>\n",
       "      <td>2</td>\n",
       "    </tr>\n",
       "    <tr>\n",
       "      <th>first</th>\n",
       "      <td>NaN</td>\n",
       "      <td>NaN</td>\n",
       "      <td>NaN</td>\n",
       "      <td>NaN</td>\n",
       "      <td>NaN</td>\n",
       "      <td>1969-12-31 16:00:00+00:00</td>\n",
       "      <td>1969-12-31 16:00:00+00:00</td>\n",
       "      <td>1969-12-31 16:00:00+00:00</td>\n",
       "      <td>NaN</td>\n",
       "      <td>NaN</td>\n",
       "    </tr>\n",
       "    <tr>\n",
       "      <th>last</th>\n",
       "      <td>NaN</td>\n",
       "      <td>NaN</td>\n",
       "      <td>NaN</td>\n",
       "      <td>NaN</td>\n",
       "      <td>NaN</td>\n",
       "      <td>2020-03-09 11:22:07.247000+00:00</td>\n",
       "      <td>2020-03-02 14:08:05+00:00</td>\n",
       "      <td>2020-03-05 07:26:00+00:00</td>\n",
       "      <td>NaN</td>\n",
       "      <td>NaN</td>\n",
       "    </tr>\n",
       "    <tr>\n",
       "      <th>mean</th>\n",
       "      <td>NaN</td>\n",
       "      <td>37.128494</td>\n",
       "      <td>-107.222935</td>\n",
       "      <td>3558.467266</td>\n",
       "      <td>NaN</td>\n",
       "      <td>NaN</td>\n",
       "      <td>NaN</td>\n",
       "      <td>NaN</td>\n",
       "      <td>NaN</td>\n",
       "      <td>NaN</td>\n",
       "    </tr>\n",
       "    <tr>\n",
       "      <th>std</th>\n",
       "      <td>NaN</td>\n",
       "      <td>138.759998</td>\n",
       "      <td>38.098762</td>\n",
       "      <td>19685.343772</td>\n",
       "      <td>NaN</td>\n",
       "      <td>NaN</td>\n",
       "      <td>NaN</td>\n",
       "      <td>NaN</td>\n",
       "      <td>NaN</td>\n",
       "      <td>NaN</td>\n",
       "    </tr>\n",
       "    <tr>\n",
       "      <th>min</th>\n",
       "      <td>NaN</td>\n",
       "      <td>-120.258000</td>\n",
       "      <td>-124.196290</td>\n",
       "      <td>0.000000</td>\n",
       "      <td>NaN</td>\n",
       "      <td>NaN</td>\n",
       "      <td>NaN</td>\n",
       "      <td>NaN</td>\n",
       "      <td>NaN</td>\n",
       "      <td>NaN</td>\n",
       "    </tr>\n",
       "    <tr>\n",
       "      <th>25%</th>\n",
       "      <td>NaN</td>\n",
       "      <td>34.099758</td>\n",
       "      <td>-121.732243</td>\n",
       "      <td>35.000000</td>\n",
       "      <td>NaN</td>\n",
       "      <td>NaN</td>\n",
       "      <td>NaN</td>\n",
       "      <td>NaN</td>\n",
       "      <td>NaN</td>\n",
       "      <td>NaN</td>\n",
       "    </tr>\n",
       "    <tr>\n",
       "      <th>50%</th>\n",
       "      <td>NaN</td>\n",
       "      <td>37.065896</td>\n",
       "      <td>-120.444012</td>\n",
       "      <td>98.000000</td>\n",
       "      <td>NaN</td>\n",
       "      <td>NaN</td>\n",
       "      <td>NaN</td>\n",
       "      <td>NaN</td>\n",
       "      <td>NaN</td>\n",
       "      <td>NaN</td>\n",
       "    </tr>\n",
       "    <tr>\n",
       "      <th>75%</th>\n",
       "      <td>NaN</td>\n",
       "      <td>39.118840</td>\n",
       "      <td>-117.436262</td>\n",
       "      <td>412.250000</td>\n",
       "      <td>NaN</td>\n",
       "      <td>NaN</td>\n",
       "      <td>NaN</td>\n",
       "      <td>NaN</td>\n",
       "      <td>NaN</td>\n",
       "      <td>NaN</td>\n",
       "    </tr>\n",
       "    <tr>\n",
       "      <th>max</th>\n",
       "      <td>NaN</td>\n",
       "      <td>5487.000000</td>\n",
       "      <td>118.908200</td>\n",
       "      <td>410203.000000</td>\n",
       "      <td>NaN</td>\n",
       "      <td>NaN</td>\n",
       "      <td>NaN</td>\n",
       "      <td>NaN</td>\n",
       "      <td>NaN</td>\n",
       "      <td>NaN</td>\n",
       "    </tr>\n",
       "  </tbody>\n",
       "</table>\n",
       "</div>"
      ],
      "text/plain": [
       "              Name     Latitude    Longitude    AcresBurned  \\\n",
       "count         1558  1558.000000  1558.000000    1558.000000   \n",
       "unique        1156          NaN          NaN            NaN   \n",
       "top     Creek Fire          NaN          NaN            NaN   \n",
       "freq            14          NaN          NaN            NaN   \n",
       "first          NaN          NaN          NaN            NaN   \n",
       "last           NaN          NaN          NaN            NaN   \n",
       "mean           NaN    37.128494  -107.222935    3558.467266   \n",
       "std            NaN   138.759998    38.098762   19685.343772   \n",
       "min            NaN  -120.258000  -124.196290       0.000000   \n",
       "25%            NaN    34.099758  -121.732243      35.000000   \n",
       "50%            NaN    37.065896  -120.444012      98.000000   \n",
       "75%            NaN    39.118840  -117.436262     412.250000   \n",
       "max            NaN  5487.000000   118.908200  410203.000000   \n",
       "\n",
       "                             AdminUnit                           Updated  \\\n",
       "count                             1558                              1558   \n",
       "unique                             482                              1074   \n",
       "top     CAL FIRE Sonoma-Lake-Napa Unit         2018-01-09 13:46:00+00:00   \n",
       "freq                                80                                 7   \n",
       "first                              NaN         1969-12-31 16:00:00+00:00   \n",
       "last                               NaN  2020-03-09 11:22:07.247000+00:00   \n",
       "mean                               NaN                               NaN   \n",
       "std                                NaN                               NaN   \n",
       "min                                NaN                               NaN   \n",
       "25%                                NaN                               NaN   \n",
       "50%                                NaN                               NaN   \n",
       "75%                                NaN                               NaN   \n",
       "max                                NaN                               NaN   \n",
       "\n",
       "                          Started               Extinguished CalFireIncident  \\\n",
       "count                        1558                       1558            1558   \n",
       "unique                       1546                       1038               2   \n",
       "top     2015-07-29 16:30:00+00:00  2018-01-09 13:46:00+00:00            True   \n",
       "freq                            2                          7            1192   \n",
       "first   1969-12-31 16:00:00+00:00  1969-12-31 16:00:00+00:00             NaN   \n",
       "last    2020-03-02 14:08:05+00:00  2020-03-05 07:26:00+00:00             NaN   \n",
       "mean                          NaN                        NaN             NaN   \n",
       "std                           NaN                        NaN             NaN   \n",
       "min                           NaN                        NaN             NaN   \n",
       "25%                           NaN                        NaN             NaN   \n",
       "50%                           NaN                        NaN             NaN   \n",
       "75%                           NaN                        NaN             NaN   \n",
       "max                           NaN                        NaN             NaN   \n",
       "\n",
       "             StartedOriginal  \n",
       "count                   1558  \n",
       "unique                  1546  \n",
       "top     2015-07-30T16:00:00Z  \n",
       "freq                       2  \n",
       "first                    NaN  \n",
       "last                     NaN  \n",
       "mean                     NaN  \n",
       "std                      NaN  \n",
       "min                      NaN  \n",
       "25%                      NaN  \n",
       "50%                      NaN  \n",
       "75%                      NaN  \n",
       "max                      NaN  "
      ]
     },
     "execution_count": 14,
     "metadata": {},
     "output_type": "execute_result"
    }
   ],
   "source": [
    "fire_df.drop(columns='Counties').describe(include='all')"
   ]
  },
  {
   "cell_type": "markdown",
   "metadata": {
    "collapsed": "false"
   },
   "source": [
    "There are a few notable issues:\n",
    "* There are dates from 1969\n",
    "* `AcresBurned` is highly skewed\n",
    "* There are some coordinates that seem to be outside of California\n",
    "* There are several `AdminUnit` (high cardinality)\n",
    "\n",
    "Let's take care of the first three. We'll handle `AdminUnit` in the feature engineering step."
   ]
  },
  {
   "cell_type": "markdown",
   "metadata": {
    "collapsed": "false"
   },
   "source": [
    "#### Dates"
   ]
  },
  {
   "cell_type": "code",
   "execution_count": 15,
   "metadata": {
    "ExecuteTime": {
     "end_time": "2020-04-02T02:53:42.887606Z",
     "start_time": "2020-04-02T02:53:42.876283Z"
    },
    "collapsed": true,
    "jupyter": {
     "outputs_hidden": true
    }
   },
   "outputs": [
    {
     "data": {
      "text/plain": [
       "Started\n",
       "1969      2\n",
       "2013    159\n",
       "2014    115\n",
       "2015    157\n",
       "2016    184\n",
       "2017    435\n",
       "2018    309\n",
       "2019    192\n",
       "2020      5\n",
       "Name: Started, dtype: int64"
      ]
     },
     "execution_count": 15,
     "metadata": {},
     "output_type": "execute_result"
    }
   ],
   "source": [
    "fire_df.groupby(fire_df['Started'].dt.year)['Started'].count()"
   ]
  },
  {
   "cell_type": "code",
   "execution_count": 16,
   "metadata": {
    "ExecuteTime": {
     "end_time": "2020-04-02T02:53:43.452404Z",
     "start_time": "2020-04-02T02:53:43.442613Z"
    },
    "collapsed": true,
    "jupyter": {
     "outputs_hidden": true
    }
   },
   "outputs": [
    {
     "name": "stdout",
     "output_type": "stream",
     "text": [
      "Before: (1558, 11)\n",
      "After: (1549, 11)\n"
     ]
    }
   ],
   "source": [
    "print(\"Before:\", fire_df.shape)\n",
    "# keep fire incidents between 2013-2019\n",
    "fire_df = fire_df.loc[(fire_df['Started']>='2013-01-01') &\n",
    "            (fire_df['Started']<='2019-12-31') &\n",
    "            (fire_df['Extinguished']>='2013-01-01') &\n",
    "            (fire_df['Extinguished']<='2020-01-31')\n",
    "           ]\n",
    "print(\"After:\", fire_df.shape)"
   ]
  },
  {
   "cell_type": "markdown",
   "metadata": {
    "collapsed": "false"
   },
   "source": [
    "We removed fire incidents that were in 2020 and a few that had erroneous dates. "
   ]
  },
  {
   "cell_type": "markdown",
   "metadata": {
    "collapsed": "false"
   },
   "source": [
    "#### Acres burned"
   ]
  },
  {
   "cell_type": "markdown",
   "metadata": {
    "collapsed": "false"
   },
   "source": [
    "Let's take a closer look at our target variable to see how skewed it is."
   ]
  },
  {
   "cell_type": "code",
   "execution_count": 17,
   "metadata": {
    "collapsed": true,
    "jupyter": {
     "outputs_hidden": true
    }
   },
   "outputs": [
    {
     "data": {
      "text/plain": [
       "faf950    410203\n",
       "d40bee    281893\n",
       "939e78    257314\n",
       "7a6c9d    229651\n",
       "87f217    191125\n",
       "           ...  \n",
       "b4aab8         0\n",
       "0275af         0\n",
       "0d9939         0\n",
       "953195         0\n",
       "423262         0\n",
       "Name: AcresBurned, Length: 1549, dtype: Int64"
      ]
     },
     "execution_count": 17,
     "metadata": {},
     "output_type": "execute_result"
    }
   ],
   "source": [
    "fire_df['AcresBurned'].sort_values(ascending=False)"
   ]
  },
  {
   "cell_type": "code",
   "execution_count": 18,
   "metadata": {
    "collapsed": true,
    "jupyter": {
     "outputs_hidden": true
    }
   },
   "outputs": [
    {
     "name": "stdout",
     "output_type": "stream",
     "text": [
      "count      1549\n",
      "mean       3578\n",
      "std       19740\n",
      "min           0\n",
      "25%          35\n",
      "50%          99\n",
      "75%         415\n",
      "max      410203\n",
      "Name: AcresBurned, dtype: int64\n",
      "99\n"
     ]
    }
   ],
   "source": [
    "print((fire_df['AcresBurned'].describe().astype('int')))\n",
    "print((fire_df['AcresBurned'].median().astype('int')))"
   ]
  },
  {
   "cell_type": "code",
   "execution_count": 19,
   "metadata": {
    "collapsed": true,
    "jupyter": {
     "outputs_hidden": true
    }
   },
   "outputs": [
    {
     "data": {
      "text/plain": [
       "<matplotlib.axes._subplots.AxesSubplot at 0x10761fc10>"
      ]
     },
     "execution_count": 19,
     "metadata": {},
     "output_type": "execute_result"
    },
    {
     "data": {
      "image/png": "[encoded data removed]",
      "text/plain": [
       "<Figure size 216x144 with 1 Axes>"
      ]
     },
     "metadata": {
      "needs_background": "light"
     },
     "output_type": "display_data"
    }
   ],
   "source": [
    "# distribution of acres burned\n",
    "fire_df['AcresBurned'].plot(kind='hist', figsize=(3, 2))"
   ]
  },
  {
   "cell_type": "code",
   "execution_count": 20,
   "metadata": {
    "collapsed": true,
    "jupyter": {
     "outputs_hidden": true
    }
   },
   "outputs": [
    {
     "data": {
      "text/plain": [
       "<matplotlib.axes._subplots.AxesSubplot at 0x120183750>"
      ]
     },
     "execution_count": 20,
     "metadata": {},
     "output_type": "execute_result"
    },
    {
     "data": {
      "image/png": "[encoded data removed]",
      "text/plain": [
       "<Figure size 216x144 with 1 Axes>"
      ]
     },
     "metadata": {
      "needs_background": "light"
     },
     "output_type": "display_data"
    }
   ],
   "source": [
    "# reduce scope to less than 500 acres burned\n",
    "fire_df.loc[fire_df['AcresBurned']<500, 'AcresBurned'].plot(kind='hist', figsize=(3, 2))"
   ]
  },
  {
   "cell_type": "markdown",
   "metadata": {
    "collapsed": "false"
   },
   "source": [
    "Well, this is going to make it tough to predict how many acres will burn given a fire.  \n",
    "The standard deviation is ~20k acres with the mean being ~3,500 and the median being ~100."
   ]
  },
  {
   "cell_type": "code",
   "execution_count": 21,
   "metadata": {
    "collapsed": true,
    "jupyter": {
     "outputs_hidden": true
    }
   },
   "outputs": [],
   "source": [
    "# drop rows where no acres were burned\n",
    "fire_df = fire_df.loc[~(fire_df['AcresBurned']==0)]"
   ]
  },
  {
   "cell_type": "markdown",
   "metadata": {
    "collapsed": "false"
   },
   "source": [
    "#### Coordinates"
   ]
  },
  {
   "cell_type": "markdown",
   "metadata": {
    "collapsed": "false"
   },
   "source": [
    "The min/max coordinates indicate that there are observations outside of California.  \n",
    "Let's check it out."
   ]
  },
  {
   "cell_type": "code",
   "execution_count": 22,
   "metadata": {
    "ExecuteTime": {
     "end_time": "2020-04-02T02:56:41.037782Z",
     "start_time": "2020-04-02T02:56:40.021488Z"
    },
    "collapsed": true,
    "jupyter": {
     "outputs_hidden": true
    }
   },
   "outputs": [],
   "source": [
    "# create geo dataframe from our dataframe (fire incidents)\n",
    "gdf = geopandas.GeoDataFrame(fire_df, geometry=geopandas.points_from_xy(fire_df['Longitude'], fire_df['Latitude']))\n",
    "# create geo dataframe with shape files (United States)\n",
    "map_url = 'https://d2ad6b4ur7yvpq.cloudfront.net/naturalearth-3.3.0/ne_110m_admin_1_states_provinces_shp.geojson'\n",
    "us_map = geopandas.read_file(map_url)\n",
    "# filter for California\n",
    "california = us_map.loc[us_map['name']=='California']"
   ]
  },
  {
   "cell_type": "code",
   "execution_count": 23,
   "metadata": {
    "collapsed": true,
    "jupyter": {
     "outputs_hidden": true
    }
   },
   "outputs": [
    {
     "data": {
      "text/plain": [
       "True     1340\n",
       "False     181\n",
       "dtype: int64"
      ]
     },
     "execution_count": 23,
     "metadata": {},
     "output_type": "execute_result"
    }
   ],
   "source": [
    "# checks if each point is within the California polygon\n",
    "gdf_california = gdf['geometry'].within(california['geometry'].unary_union)\n",
    "gdf_california.value_counts()"
   ]
  },
  {
   "cell_type": "markdown",
   "metadata": {
    "collapsed": "false"
   },
   "source": [
    "There are 181 points that are outside of California.  \n",
    "We'll be getting rid of these since we need accurate coordinates to make an API call to get weather data."
   ]
  },
  {
   "cell_type": "code",
   "execution_count": 24,
   "metadata": {
    "collapsed": true,
    "jupyter": {
     "outputs_hidden": true
    }
   },
   "outputs": [
    {
     "data": {
      "text/plain": [
       "<matplotlib.axes._subplots.AxesSubplot at 0x11e7e1190>"
      ]
     },
     "execution_count": 24,
     "metadata": {},
     "output_type": "execute_result"
    },
    {
     "data": {
      "image/png": "[encoded data removed]",
      "text/plain": [
       "<Figure size 432x288 with 1 Axes>"
      ]
     },
     "metadata": {
      "needs_background": "light"
     },
     "output_type": "display_data"
    }
   ],
   "source": [
    "# define axis to California\n",
    "ax = california.plot(color='white', edgecolor='black')\n",
    "# plot points\n",
    "gdf.loc[gdf_california==True, 'geometry'].plot(ax=ax)"
   ]
  },
  {
   "cell_type": "markdown",
   "metadata": {
    "collapsed": "false"
   },
   "source": [
    "The plot reveals that all of our points are within California.  \n",
    "We can now convert our geopandas dataframe back to a dataframe."
   ]
  },
  {
   "cell_type": "code",
   "execution_count": 25,
   "metadata": {
    "collapsed": true,
    "jupyter": {
     "outputs_hidden": true
    }
   },
   "outputs": [],
   "source": [
    "# convert to pandas dataframe \n",
    "fire_df = pd.DataFrame(gdf.loc[gdf_california==True])"
   ]
  },
  {
   "cell_type": "code",
   "execution_count": 26,
   "metadata": {
    "collapsed": true,
    "jupyter": {
     "outputs_hidden": true
    }
   },
   "outputs": [],
   "source": [
    "# pickle\n",
    "fire_df.to_pickle('../data/01_fire_df.pkl')"
   ]
  },
  {
   "cell_type": "markdown",
   "metadata": {
    "collapsed": "false",
    "heading_collapsed": true
   },
   "source": [
    "## Get Data: Weather"
   ]
  },
  {
   "cell_type": "markdown",
   "metadata": {
    "collapsed": "false"
   },
   "source": [
    "We'll be getting our weather data from the [DarkSky API](https://darksky.net/dev).  \n",
    "The Dark Sky API requires the request url to have the following format:  \n",
    ">https://api.darksky.net/forecast/[key]/[latitude],[longitude],[time]\n",
    "\n",
    "Let's construct the request url."
   ]
  },
  {
   "cell_type": "code",
   "execution_count": 27,
   "metadata": {
    "ExecuteTime": {
     "end_time": "2020-01-23T05:40:40.945790Z",
     "start_time": "2020-01-23T05:40:40.929634Z"
    },
    "collapsed": true,
    "hidden": true,
    "jupyter": {
     "outputs_hidden": true
    }
   },
   "outputs": [],
   "source": [
    "def construct_url_weather():\n",
    "    '''Returns urls with parameters required by the DarkSky API as a pandas series'''\n",
    "    # clean date by removing extra digits\n",
    "    fire_df['StartedOriginal'] = fire_df.loc[:, 'StartedOriginal'].str.replace('\\.\\d+', '')\n",
    "    # params\n",
    "    api_key = '4f4ef1267ba7015a5e1b8aee6fb45ded'\n",
    "    url_start = 'https://api.darksky.net/forecast/4f4ef1267ba7015a5e1b8aee6fb45ded/'\n",
    "    url_end = '?exclude=currently,minutely,hourly,flags'\n",
    "    lat = fire_df['Latitude'].astype(str)\n",
    "    lon = fire_df['Longitude'].astype(str)\n",
    "    dt = fire_df['StartedOriginal'].astype(str)\n",
    "    # put it all together\n",
    "    fire_df['RequestURL'] = url_start + lat + ',' + lon + ',' + dt + url_end\n",
    "\n",
    "construct_url_weather()"
   ]
  },
  {
   "cell_type": "markdown",
   "metadata": {
    "collapsed": "false",
    "hidden": true
   },
   "source": [
    "The code below makes a call for each start date of a wildfire (1 row per wildfire) and appends the weather data to a dataframe as a row.  "
   ]
  },
  {
   "cell_type": "code",
   "execution_count": 28,
   "metadata": {
    "ExecuteTime": {
     "end_time": "2020-01-23T05:51:07.215672Z",
     "start_time": "2020-01-23T05:41:03.500923Z"
    },
    "collapsed": true,
    "hidden": true,
    "jupyter": {
     "outputs_hidden": true
    },
    "scrolled": true
   },
   "outputs": [
    {
     "name": "stdout",
     "output_type": "stream",
     "text": [
      "(1340, 40)\n"
     ]
    }
   ],
   "source": [
    "def get_weather_data():\n",
    "    '''Makes requests to the DarkSky API and returns weather data in a pandas dataframe'''\n",
    "    weather_df = pd.DataFrame()\n",
    "    for idx, url in fire_df.loc[:, 'RequestURL'].iteritems():\n",
    "        response = requests.get(url)\n",
    "        if response.status_code == 400: # bad request\n",
    "            print(f'{idx}', response.status_code)\n",
    "        else:\n",
    "            # normalize weather json\n",
    "            row = pd.json_normalize(response.json(), ['daily', 'data'])\n",
    "            # set index\n",
    "            row['UniqueId'] = idx\n",
    "            row.set_index('UniqueId', drop=True, inplace=True)\n",
    "            row.index.name = None\n",
    "            # append row\n",
    "            weather_df = weather_df.append(row)\n",
    "    return weather_df\n",
    "\n",
    "weather_df = get_weather_data()\n",
    "print(weather_df.shape)"
   ]
  },
  {
   "cell_type": "code",
   "execution_count": 29,
   "metadata": {
    "collapsed": true,
    "jupyter": {
     "outputs_hidden": true
    }
   },
   "outputs": [],
   "source": [
    "# pickle\n",
    "weather_df.to_pickle('../data/01_weather_df.pkl')"
   ]
  },
  {
   "cell_type": "markdown",
   "metadata": {
    "collapsed": "false",
    "heading_collapsed": true
   },
   "source": [
    "## Data Cleaning"
   ]
  },
  {
   "cell_type": "markdown",
   "metadata": {
    "collapsed": "false",
    "hidden": true
   },
   "source": [
    "We need to avoid multi-collinearity as many of these features are highly similar.  \n",
    "Let's remove some features."
   ]
  },
  {
   "cell_type": "code",
   "execution_count": 30,
   "metadata": {
    "collapsed": true,
    "jupyter": {
     "outputs_hidden": true
    }
   },
   "outputs": [
    {
     "data": {
      "text/html": [
       "<div>\n",
       "<style scoped>\n",
       "    .dataframe tbody tr th:only-of-type {\n",
       "        vertical-align: middle;\n",
       "    }\n",
       "\n",
       "    .dataframe tbody tr th {\n",
       "        vertical-align: top;\n",
       "    }\n",
       "\n",
       "    .dataframe thead th {\n",
       "        text-align: right;\n",
       "    }\n",
       "</style>\n",
       "<table border=\"1\" class=\"dataframe\">\n",
       "  <thead>\n",
       "    <tr style=\"text-align: right;\">\n",
       "      <th></th>\n",
       "      <th>time</th>\n",
       "      <th>summary</th>\n",
       "      <th>icon</th>\n",
       "      <th>sunriseTime</th>\n",
       "      <th>sunsetTime</th>\n",
       "      <th>moonPhase</th>\n",
       "      <th>precipIntensity</th>\n",
       "      <th>precipIntensityMax</th>\n",
       "      <th>precipIntensityMaxTime</th>\n",
       "      <th>precipProbability</th>\n",
       "      <th>...</th>\n",
       "      <th>visibility</th>\n",
       "      <th>ozone</th>\n",
       "      <th>temperatureMin</th>\n",
       "      <th>temperatureMinTime</th>\n",
       "      <th>temperatureMax</th>\n",
       "      <th>temperatureMaxTime</th>\n",
       "      <th>apparentTemperatureMin</th>\n",
       "      <th>apparentTemperatureMinTime</th>\n",
       "      <th>apparentTemperatureMax</th>\n",
       "      <th>apparentTemperatureMaxTime</th>\n",
       "    </tr>\n",
       "  </thead>\n",
       "  <tbody>\n",
       "    <tr>\n",
       "      <th>52378c</th>\n",
       "      <td>1546329600</td>\n",
       "      <td>Clear throughout the day.</td>\n",
       "      <td>clear-day</td>\n",
       "      <td>1546357200</td>\n",
       "      <td>1546390740</td>\n",
       "      <td>0.88</td>\n",
       "      <td>0.0006</td>\n",
       "      <td>0.0019</td>\n",
       "      <td>1.546351e+09</td>\n",
       "      <td>0.06</td>\n",
       "      <td>...</td>\n",
       "      <td>10.0</td>\n",
       "      <td>297.4</td>\n",
       "      <td>29.97</td>\n",
       "      <td>1546346220</td>\n",
       "      <td>52.46</td>\n",
       "      <td>1546379760</td>\n",
       "      <td>22.92</td>\n",
       "      <td>1546350960</td>\n",
       "      <td>51.98</td>\n",
       "      <td>1546379280</td>\n",
       "    </tr>\n",
       "    <tr>\n",
       "      <th>398fe2</th>\n",
       "      <td>1561446000</td>\n",
       "      <td>Clear throughout the day.</td>\n",
       "      <td>clear-day</td>\n",
       "      <td>1561466460</td>\n",
       "      <td>1561520220</td>\n",
       "      <td>0.77</td>\n",
       "      <td>0.0004</td>\n",
       "      <td>0.0014</td>\n",
       "      <td>1.561449e+09</td>\n",
       "      <td>0.01</td>\n",
       "      <td>...</td>\n",
       "      <td>10.0</td>\n",
       "      <td>342.5</td>\n",
       "      <td>62.02</td>\n",
       "      <td>1561466160</td>\n",
       "      <td>91.96</td>\n",
       "      <td>1561507200</td>\n",
       "      <td>62.51</td>\n",
       "      <td>1561466160</td>\n",
       "      <td>91.46</td>\n",
       "      <td>1561507200</td>\n",
       "    </tr>\n",
       "    <tr>\n",
       "      <th>030e7d</th>\n",
       "      <td>1556434800</td>\n",
       "      <td>Clear throughout the day.</td>\n",
       "      <td>clear-day</td>\n",
       "      <td>1556457180</td>\n",
       "      <td>1556505960</td>\n",
       "      <td>0.82</td>\n",
       "      <td>0.0009</td>\n",
       "      <td>0.0030</td>\n",
       "      <td>1.556504e+09</td>\n",
       "      <td>0.03</td>\n",
       "      <td>...</td>\n",
       "      <td>10.0</td>\n",
       "      <td>322.9</td>\n",
       "      <td>52.64</td>\n",
       "      <td>1556456880</td>\n",
       "      <td>83.37</td>\n",
       "      <td>1556487660</td>\n",
       "      <td>53.13</td>\n",
       "      <td>1556456880</td>\n",
       "      <td>82.87</td>\n",
       "      <td>1556487660</td>\n",
       "    </tr>\n",
       "    <tr>\n",
       "      <th>b5b503</th>\n",
       "      <td>1556607600</td>\n",
       "      <td>Clear throughout the day.</td>\n",
       "      <td>clear-day</td>\n",
       "      <td>1556629800</td>\n",
       "      <td>1556679720</td>\n",
       "      <td>0.88</td>\n",
       "      <td>0.0016</td>\n",
       "      <td>0.0066</td>\n",
       "      <td>1.556608e+09</td>\n",
       "      <td>0.15</td>\n",
       "      <td>...</td>\n",
       "      <td>10.0</td>\n",
       "      <td>368.4</td>\n",
       "      <td>52.82</td>\n",
       "      <td>1556631540</td>\n",
       "      <td>72.21</td>\n",
       "      <td>1556665440</td>\n",
       "      <td>53.31</td>\n",
       "      <td>1556631540</td>\n",
       "      <td>71.71</td>\n",
       "      <td>1556665440</td>\n",
       "    </tr>\n",
       "    <tr>\n",
       "      <th>abd7ac</th>\n",
       "      <td>1556607600</td>\n",
       "      <td>Clear throughout the day.</td>\n",
       "      <td>clear-day</td>\n",
       "      <td>1556629560</td>\n",
       "      <td>1556678520</td>\n",
       "      <td>0.88</td>\n",
       "      <td>0.0007</td>\n",
       "      <td>0.0023</td>\n",
       "      <td>1.556639e+09</td>\n",
       "      <td>0.05</td>\n",
       "      <td>...</td>\n",
       "      <td>10.0</td>\n",
       "      <td>346.4</td>\n",
       "      <td>50.37</td>\n",
       "      <td>1556628840</td>\n",
       "      <td>70.64</td>\n",
       "      <td>1556665800</td>\n",
       "      <td>50.86</td>\n",
       "      <td>1556628840</td>\n",
       "      <td>70.14</td>\n",
       "      <td>1556665800</td>\n",
       "    </tr>\n",
       "  </tbody>\n",
       "</table>\n",
       "<p>5 rows × 40 columns</p>\n",
       "</div>"
      ],
      "text/plain": [
       "              time                    summary       icon  sunriseTime  \\\n",
       "52378c  1546329600  Clear throughout the day.  clear-day   1546357200   \n",
       "398fe2  1561446000  Clear throughout the day.  clear-day   1561466460   \n",
       "030e7d  1556434800  Clear throughout the day.  clear-day   1556457180   \n",
       "b5b503  1556607600  Clear throughout the day.  clear-day   1556629800   \n",
       "abd7ac  1556607600  Clear throughout the day.  clear-day   1556629560   \n",
       "\n",
       "        sunsetTime  moonPhase  precipIntensity  precipIntensityMax  \\\n",
       "52378c  1546390740       0.88           0.0006              0.0019   \n",
       "398fe2  1561520220       0.77           0.0004              0.0014   \n",
       "030e7d  1556505960       0.82           0.0009              0.0030   \n",
       "b5b503  1556679720       0.88           0.0016              0.0066   \n",
       "abd7ac  1556678520       0.88           0.0007              0.0023   \n",
       "\n",
       "        precipIntensityMaxTime  precipProbability  ... visibility  ozone  \\\n",
       "52378c            1.546351e+09               0.06  ...       10.0  297.4   \n",
       "398fe2            1.561449e+09               0.01  ...       10.0  342.5   \n",
       "030e7d            1.556504e+09               0.03  ...       10.0  322.9   \n",
       "b5b503            1.556608e+09               0.15  ...       10.0  368.4   \n",
       "abd7ac            1.556639e+09               0.05  ...       10.0  346.4   \n",
       "\n",
       "        temperatureMin  temperatureMinTime  temperatureMax  \\\n",
       "52378c           29.97          1546346220           52.46   \n",
       "398fe2           62.02          1561466160           91.96   \n",
       "030e7d           52.64          1556456880           83.37   \n",
       "b5b503           52.82          1556631540           72.21   \n",
       "abd7ac           50.37          1556628840           70.64   \n",
       "\n",
       "        temperatureMaxTime  apparentTemperatureMin  \\\n",
       "52378c          1546379760                   22.92   \n",
       "398fe2          1561507200                   62.51   \n",
       "030e7d          1556487660                   53.13   \n",
       "b5b503          1556665440                   53.31   \n",
       "abd7ac          1556665800                   50.86   \n",
       "\n",
       "        apparentTemperatureMinTime  apparentTemperatureMax  \\\n",
       "52378c                  1546350960                   51.98   \n",
       "398fe2                  1561466160                   91.46   \n",
       "030e7d                  1556456880                   82.87   \n",
       "b5b503                  1556631540                   71.71   \n",
       "abd7ac                  1556628840                   70.14   \n",
       "\n",
       "        apparentTemperatureMaxTime  \n",
       "52378c                  1546379280  \n",
       "398fe2                  1561507200  \n",
       "030e7d                  1556487660  \n",
       "b5b503                  1556665440  \n",
       "abd7ac                  1556665800  \n",
       "\n",
       "[5 rows x 40 columns]"
      ]
     },
     "execution_count": 30,
     "metadata": {},
     "output_type": "execute_result"
    }
   ],
   "source": [
    "weather_df.head()"
   ]
  },
  {
   "cell_type": "code",
   "execution_count": 31,
   "metadata": {
    "ExecuteTime": {
     "end_time": "2020-01-27T06:29:08.713468Z",
     "start_time": "2020-01-27T06:29:08.698667Z"
    },
    "collapsed": true,
    "hidden": true,
    "jupyter": {
     "outputs_hidden": true
    },
    "scrolled": true
   },
   "outputs": [
    {
     "name": "stdout",
     "output_type": "stream",
     "text": [
      "<class 'pandas.core.frame.DataFrame'>\n",
      "Index: 1340 entries, 52378c to 204744\n",
      "Data columns (total 40 columns):\n",
      " #   Column                       Non-Null Count  Dtype  \n",
      "---  ------                       --------------  -----  \n",
      " 0   time                         1340 non-null   int64  \n",
      " 1   summary                      1195 non-null   object \n",
      " 2   icon                         1214 non-null   object \n",
      " 3   sunriseTime                  1340 non-null   int64  \n",
      " 4   sunsetTime                   1340 non-null   int64  \n",
      " 5   moonPhase                    1340 non-null   float64\n",
      " 6   precipIntensity              1339 non-null   float64\n",
      " 7   precipIntensityMax           1339 non-null   float64\n",
      " 8   precipIntensityMaxTime       758 non-null    float64\n",
      " 9   precipProbability            1337 non-null   float64\n",
      " 10  precipType                   529 non-null    object \n",
      " 11  precipAccumulation           2 non-null      float64\n",
      " 12  temperatureHigh              1340 non-null   float64\n",
      " 13  temperatureHighTime          1340 non-null   int64  \n",
      " 14  temperatureLow               1340 non-null   float64\n",
      " 15  temperatureLowTime           1340 non-null   int64  \n",
      " 16  apparentTemperatureHigh      1340 non-null   float64\n",
      " 17  apparentTemperatureHighTime  1340 non-null   int64  \n",
      " 18  apparentTemperatureLow       1340 non-null   float64\n",
      " 19  apparentTemperatureLowTime   1340 non-null   int64  \n",
      " 20  dewPoint                     1340 non-null   float64\n",
      " 21  humidity                     1340 non-null   float64\n",
      " 22  pressure                     1108 non-null   float64\n",
      " 23  windSpeed                    1340 non-null   float64\n",
      " 24  windGust                     1340 non-null   float64\n",
      " 25  windGustTime                 1340 non-null   int64  \n",
      " 26  windBearing                  1340 non-null   int64  \n",
      " 27  cloudCover                   1184 non-null   float64\n",
      " 28  uvIndex                      1287 non-null   float64\n",
      " 29  uvIndexTime                  1287 non-null   float64\n",
      " 30  visibility                   1214 non-null   float64\n",
      " 31  ozone                        268 non-null    float64\n",
      " 32  temperatureMin               1340 non-null   float64\n",
      " 33  temperatureMinTime           1340 non-null   int64  \n",
      " 34  temperatureMax               1340 non-null   float64\n",
      " 35  temperatureMaxTime           1340 non-null   int64  \n",
      " 36  apparentTemperatureMin       1340 non-null   float64\n",
      " 37  apparentTemperatureMinTime   1340 non-null   int64  \n",
      " 38  apparentTemperatureMax       1340 non-null   float64\n",
      " 39  apparentTemperatureMaxTime   1340 non-null   int64  \n",
      "dtypes: float64(24), int64(13), object(3)\n",
      "memory usage: 429.2+ KB\n"
     ]
    }
   ],
   "source": [
    "weather_df.info()"
   ]
  },
  {
   "cell_type": "code",
   "execution_count": 32,
   "metadata": {
    "ExecuteTime": {
     "end_time": "2020-01-27T06:29:10.994173Z",
     "start_time": "2020-01-27T06:29:10.985696Z"
    },
    "collapsed": true,
    "hidden": true,
    "jupyter": {
     "outputs_hidden": true
    }
   },
   "outputs": [],
   "source": [
    "columns_to_remove = [\n",
    "    'apparentTemperatureHigh',\n",
    "    'apparentTemperatureHighTime',\n",
    "    'apparentTemperatureLow',\n",
    "    'apparentTemperatureLowTime',\n",
    "    'apparentTemperatureMax',\n",
    "    'apparentTemperatureMaxTime',\n",
    "    'apparentTemperatureMin',\n",
    "    'apparentTemperatureMinTime', \n",
    "    'cloudCover',\n",
    "    'icon', \n",
    "    'ozone',\n",
    "    'precipIntensityMax',\n",
    "    'precipIntensityMaxTime',\n",
    "    'precipProbability',\n",
    "    'precipType',\n",
    "    'precipAccumulation',\n",
    "    'pressure', \n",
    "    'summary',\n",
    "    'sunriseTime',\n",
    "    'temperatureHighTime', \n",
    "    'temperatureLowTime',\n",
    "    'temperatureMax', \n",
    "    'temperatureMaxTime',\n",
    "    'temperatureMin',\n",
    "    'temperatureMinTime', \n",
    "    'time',\n",
    "    'uvIndex', \n",
    "    'uvIndexTime', \n",
    "    'visibility',\n",
    "    'windBearing', \n",
    "    'windGust',\n",
    "    'windGustTime'\n",
    "]\n",
    "weather_df = weather_df.drop(columns_to_remove, axis=1)"
   ]
  },
  {
   "cell_type": "code",
   "execution_count": 33,
   "metadata": {
    "collapsed": true,
    "jupyter": {
     "outputs_hidden": true
    }
   },
   "outputs": [
    {
     "data": {
      "text/html": [
       "<div>\n",
       "<style scoped>\n",
       "    .dataframe tbody tr th:only-of-type {\n",
       "        vertical-align: middle;\n",
       "    }\n",
       "\n",
       "    .dataframe tbody tr th {\n",
       "        vertical-align: top;\n",
       "    }\n",
       "\n",
       "    .dataframe thead th {\n",
       "        text-align: right;\n",
       "    }\n",
       "</style>\n",
       "<table border=\"1\" class=\"dataframe\">\n",
       "  <thead>\n",
       "    <tr style=\"text-align: right;\">\n",
       "      <th></th>\n",
       "      <th>sunsetTime</th>\n",
       "      <th>moonPhase</th>\n",
       "      <th>precipIntensity</th>\n",
       "      <th>temperatureHigh</th>\n",
       "      <th>temperatureLow</th>\n",
       "      <th>dewPoint</th>\n",
       "      <th>humidity</th>\n",
       "      <th>windSpeed</th>\n",
       "    </tr>\n",
       "  </thead>\n",
       "  <tbody>\n",
       "    <tr>\n",
       "      <th>52378c</th>\n",
       "      <td>1546390740</td>\n",
       "      <td>0.88</td>\n",
       "      <td>0.0006</td>\n",
       "      <td>52.46</td>\n",
       "      <td>32.19</td>\n",
       "      <td>13.31</td>\n",
       "      <td>0.37</td>\n",
       "      <td>5.86</td>\n",
       "    </tr>\n",
       "    <tr>\n",
       "      <th>398fe2</th>\n",
       "      <td>1561520220</td>\n",
       "      <td>0.77</td>\n",
       "      <td>0.0004</td>\n",
       "      <td>91.96</td>\n",
       "      <td>60.33</td>\n",
       "      <td>50.88</td>\n",
       "      <td>0.42</td>\n",
       "      <td>4.96</td>\n",
       "    </tr>\n",
       "    <tr>\n",
       "      <th>030e7d</th>\n",
       "      <td>1556505960</td>\n",
       "      <td>0.82</td>\n",
       "      <td>0.0009</td>\n",
       "      <td>83.37</td>\n",
       "      <td>56.30</td>\n",
       "      <td>48.51</td>\n",
       "      <td>0.55</td>\n",
       "      <td>7.75</td>\n",
       "    </tr>\n",
       "    <tr>\n",
       "      <th>b5b503</th>\n",
       "      <td>1556679720</td>\n",
       "      <td>0.88</td>\n",
       "      <td>0.0016</td>\n",
       "      <td>72.21</td>\n",
       "      <td>47.45</td>\n",
       "      <td>45.50</td>\n",
       "      <td>0.60</td>\n",
       "      <td>6.20</td>\n",
       "    </tr>\n",
       "    <tr>\n",
       "      <th>abd7ac</th>\n",
       "      <td>1556678520</td>\n",
       "      <td>0.88</td>\n",
       "      <td>0.0007</td>\n",
       "      <td>70.64</td>\n",
       "      <td>51.38</td>\n",
       "      <td>46.74</td>\n",
       "      <td>0.63</td>\n",
       "      <td>6.10</td>\n",
       "    </tr>\n",
       "  </tbody>\n",
       "</table>\n",
       "</div>"
      ],
      "text/plain": [
       "        sunsetTime  moonPhase  precipIntensity  temperatureHigh  \\\n",
       "52378c  1546390740       0.88           0.0006            52.46   \n",
       "398fe2  1561520220       0.77           0.0004            91.96   \n",
       "030e7d  1556505960       0.82           0.0009            83.37   \n",
       "b5b503  1556679720       0.88           0.0016            72.21   \n",
       "abd7ac  1556678520       0.88           0.0007            70.64   \n",
       "\n",
       "        temperatureLow  dewPoint  humidity  windSpeed  \n",
       "52378c           32.19     13.31      0.37       5.86  \n",
       "398fe2           60.33     50.88      0.42       4.96  \n",
       "030e7d           56.30     48.51      0.55       7.75  \n",
       "b5b503           47.45     45.50      0.60       6.20  \n",
       "abd7ac           51.38     46.74      0.63       6.10  "
      ]
     },
     "execution_count": 33,
     "metadata": {},
     "output_type": "execute_result"
    }
   ],
   "source": [
    "weather_df.head()"
   ]
  },
  {
   "cell_type": "markdown",
   "metadata": {
    "collapsed": "false"
   },
   "source": [
    "Finally, we're going to merge the fire incidents and weather dataframes."
   ]
  },
  {
   "cell_type": "code",
   "execution_count": 36,
   "metadata": {
    "collapsed": true,
    "jupyter": {
     "outputs_hidden": true
    }
   },
   "outputs": [
    {
     "name": "stdout",
     "output_type": "stream",
     "text": [
      "Shapes (before) \n",
      "fires: (1340, 13) \n",
      "weather: (1340, 8)\n",
      "\n",
      "\n",
      "Shape (after) \n",
      "fire_weather (1340, 21)\n"
     ]
    }
   ],
   "source": [
    "print('Shapes (before)', '\\nfires:', fire_df.shape, '\\nweather:', weather_df.shape, end='\\n\\n')\n",
    "fire_weather = pd.merge(fire_df, weather_df, how='inner', left_index=True, right_index=True)\n",
    "print('Shape (after)', '\\nfire_weather', fire_weather.shape)"
   ]
  },
  {
   "cell_type": "code",
   "execution_count": 37,
   "metadata": {
    "collapsed": true,
    "jupyter": {
     "outputs_hidden": true
    }
   },
   "outputs": [],
   "source": [
    "# pickle\n",
    "fire_weather.to_pickle('../data/01_fire_weather.pkl')"
   ]
  }
 ],
 "metadata": {
  "kernelspec": {
   "display_name": "dev",
   "language": "python",
   "name": "dev"
  },
  "language_info": {
   "codemirror_mode": {
    "name": "ipython",
    "version": 3
   },
   "file_extension": ".py",
   "mimetype": "text/x-python",
   "name": "python",
   "nbconvert_exporter": "python",
   "pygments_lexer": "ipython3",
   "version": "3.7.7"
  },
  "toc": {
   "base_numbering": 1,
   "nav_menu": {
    "height": "588px",
    "width": "885px"
   },
   "number_sections": true,
   "sideBar": true,
   "skip_h1_title": false,
   "title_cell": "Table of Contents",
   "title_sidebar": "Contents",
   "toc_cell": false,
   "toc_position": {},
   "toc_section_display": true,
   "toc_window_display": false
  },
  "toc-autonumbering": false,
  "toc-showcode": false,
  "toc-showmarkdowntxt": false,
  "varInspector": {
   "cols": {
    "lenName": 16,
    "lenType": 16,
    "lenVar": 40
   },
   "kernels_config": {
    "python": {
     "delete_cmd_postfix": "",
     "delete_cmd_prefix": "del ",
     "library": "var_list.py",
     "varRefreshCmd": "print(var_dic_list())"
    },
    "r": {
     "delete_cmd_postfix": ") ",
     "delete_cmd_prefix": "rm(",
     "library": "var_list.r",
     "varRefreshCmd": "cat(var_dic_list()) "
    }
   },
   "types_to_exclude": [
    "module",
    "function",
    "builtin_function_or_method",
    "instance",
    "_Feature"
   ],
   "window_display": false
  }
 },
 "nbformat": 4,
 "nbformat_minor": 4
}
