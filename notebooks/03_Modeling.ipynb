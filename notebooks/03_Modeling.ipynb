{
 "cells": [
  {
   "cell_type": "markdown",
   "metadata": {},
   "source": [
    "# Modeling"
   ]
  },
  {
   "cell_type": "markdown",
   "metadata": {},
   "source": [
    "<h1>Table of Contents<span class=\"tocSkip\"></span></h1>\n",
    "<div class=\"toc\"><ul class=\"toc-item\"><li><span><a href=\"#Introduction\" data-toc-modified-id=\"Introduction-1\"><span class=\"toc-item-num\">1&nbsp;&nbsp;</span>Introduction</a></span></li><li><span><a href=\"#Preprocess-Data-for-Modeling\" data-toc-modified-id=\"Preprocess-Data-for-Modeling-2\"><span class=\"toc-item-num\">2&nbsp;&nbsp;</span>Preprocess Data for Modeling</a></span></li><li><span><a href=\"#Define-Functions-for-Model-Selection\" data-toc-modified-id=\"Define-Functions-for-Model-Selection-3\"><span class=\"toc-item-num\">3&nbsp;&nbsp;</span>Define Functions for Model Selection</a></span></li><li><span><a href=\"#Model-Selection\" data-toc-modified-id=\"Model-Selection-4\"><span class=\"toc-item-num\">4&nbsp;&nbsp;</span>Model Selection</a></span><ul class=\"toc-item\"><li><span><a href=\"#Linear-Regression\" data-toc-modified-id=\"Linear-Regression-4.1\"><span class=\"toc-item-num\">4.1&nbsp;&nbsp;</span>Linear Regression</a></span></li><li><span><a href=\"#Decision-Tree-Regressor\" data-toc-modified-id=\"Decision-Tree-Regressor-4.2\"><span class=\"toc-item-num\">4.2&nbsp;&nbsp;</span>Decision Tree Regressor</a></span></li><li><span><a href=\"#Random-Forest-Regressor\" data-toc-modified-id=\"Random-Forest-Regressor-4.3\"><span class=\"toc-item-num\">4.3&nbsp;&nbsp;</span>Random Forest Regressor</a></span></li><li><span><a href=\"#Random-Forest-Regressor-–-Grid-Search\" data-toc-modified-id=\"Random-Forest-Regressor-–-Grid-Search-4.4\"><span class=\"toc-item-num\">4.4&nbsp;&nbsp;</span>Random Forest Regressor – Grid Search</a></span></li></ul></li><li><span><a href=\"#Feature-Importance\" data-toc-modified-id=\"Feature-Importance-5\"><span class=\"toc-item-num\">5&nbsp;&nbsp;</span>Feature Importance</a></span></li><li><span><a href=\"#Final-Model\" data-toc-modified-id=\"Final-Model-6\"><span class=\"toc-item-num\">6&nbsp;&nbsp;</span>Final Model</a></span><ul class=\"toc-item\"><li><span><a href=\"#Findings\" data-toc-modified-id=\"Findings-6.1\"><span class=\"toc-item-num\">6.1&nbsp;&nbsp;</span>Findings</a></span></li></ul></li></ul></div>"
   ]
  },
  {
   "cell_type": "markdown",
   "metadata": {},
   "source": [
    "## Introduction"
   ]
  },
  {
   "cell_type": "markdown",
   "metadata": {},
   "source": [
    "In this notebook, we'll be prepping the data for modeling and creating the following:\n",
    "* Pipeline for numerical features\n",
    "    * Scale data\n",
    "    * Impute missing values\n",
    "* Pipeline for categorical features\n",
    "   * One-hot encode some features\n",
    "   * Use a count vectorizer for 'AdminUnit'\n",
    "* Column transformer to transform our training set\n",
    "* Two functions for model selection\n",
    "\n",
    "We'll also be taking a look a **feature importance** and fine-tuning our best model."
   ]
  },
  {
   "cell_type": "code",
   "execution_count": 53,
   "metadata": {
    "execution": {
     "iopub.execute_input": "2020-05-26T22:20:49.976430Z",
     "iopub.status.busy": "2020-05-26T22:20:49.976059Z",
     "iopub.status.idle": "2020-05-26T22:20:49.990140Z",
     "shell.execute_reply": "2020-05-26T22:20:49.989378Z",
     "shell.execute_reply.started": "2020-05-26T22:20:49.976387Z"
    }
   },
   "outputs": [],
   "source": [
    "from pprint import pprint\n",
    "\n",
    "import joblib\n",
    "import matplotlib.pyplot as plt\n",
    "import numpy as np\n",
    "import pandas as pd\n",
    "import pickle\n",
    "\n",
    "from scipy import stats\n",
    "from sklearn.base import BaseEstimator\n",
    "from sklearn.base import TransformerMixin\n",
    "from sklearn.compose import make_column_transformer\n",
    "from sklearn.ensemble import RandomForestRegressor\n",
    "from sklearn.feature_extraction.text import CountVectorizer\n",
    "from sklearn.impute import SimpleImputer\n",
    "from sklearn.linear_model import LinearRegression\n",
    "from sklearn.metrics import mean_absolute_error\n",
    "from sklearn.metrics import mean_squared_error\n",
    "from sklearn.metrics import r2_score\n",
    "from sklearn.model_selection import cross_val_score\n",
    "from sklearn.model_selection import GridSearchCV\n",
    "from sklearn.model_selection import RandomizedSearchCV\n",
    "from sklearn.model_selection import train_test_split\n",
    "from sklearn.pipeline import make_pipeline\n",
    "from sklearn.pipeline import Pipeline\n",
    "from sklearn.preprocessing import OneHotEncoder\n",
    "from sklearn.preprocessing import StandardScaler\n",
    "from sklearn.tree import DecisionTreeRegressor\n",
    "\n",
    "# display estimators as a diagram\n",
    "from sklearn import set_config\n",
    "set_config(display='diagram')\n",
    "\n",
    "# display plots inline\n",
    "%matplotlib inline"
   ]
  },
  {
   "cell_type": "code",
   "execution_count": 2,
   "metadata": {
    "execution": {
     "iopub.execute_input": "2020-05-26T21:43:05.475054Z",
     "iopub.status.busy": "2020-05-26T21:43:05.474798Z",
     "iopub.status.idle": "2020-05-26T21:43:05.644124Z",
     "shell.execute_reply": "2020-05-26T21:43:05.643524Z",
     "shell.execute_reply.started": "2020-05-26T21:43:05.475024Z"
    }
   },
   "outputs": [
    {
     "data": {
      "text/html": [
       "<div>\n",
       "<style scoped>\n",
       "    .dataframe tbody tr th:only-of-type {\n",
       "        vertical-align: middle;\n",
       "    }\n",
       "\n",
       "    .dataframe tbody tr th {\n",
       "        vertical-align: top;\n",
       "    }\n",
       "\n",
       "    .dataframe thead th {\n",
       "        text-align: right;\n",
       "    }\n",
       "</style>\n",
       "<table border=\"1\" class=\"dataframe\">\n",
       "  <thead>\n",
       "    <tr style=\"text-align: right;\">\n",
       "      <th></th>\n",
       "      <th>Name</th>\n",
       "      <th>Latitude</th>\n",
       "      <th>Longitude</th>\n",
       "      <th>AcresBurned</th>\n",
       "      <th>Counties</th>\n",
       "      <th>AdminUnit</th>\n",
       "      <th>Updated</th>\n",
       "      <th>Started</th>\n",
       "      <th>Extinguished</th>\n",
       "      <th>CalFireIncident</th>\n",
       "      <th>...</th>\n",
       "      <th>geometry</th>\n",
       "      <th>RequestURL</th>\n",
       "      <th>sunsetTime</th>\n",
       "      <th>moonPhase</th>\n",
       "      <th>precipIntensity</th>\n",
       "      <th>temperatureHigh</th>\n",
       "      <th>temperatureLow</th>\n",
       "      <th>dewPoint</th>\n",
       "      <th>humidity</th>\n",
       "      <th>windSpeed</th>\n",
       "    </tr>\n",
       "  </thead>\n",
       "  <tbody>\n",
       "    <tr>\n",
       "      <th>52378c</th>\n",
       "      <td>Pilot Fire</td>\n",
       "      <td>40.618056</td>\n",
       "      <td>-123.675556</td>\n",
       "      <td>30</td>\n",
       "      <td>[Humboldt]</td>\n",
       "      <td>CAL FIRE Humbolt-Del Norte Unit</td>\n",
       "      <td>2019-01-15 10:38:00+00:00</td>\n",
       "      <td>2019-01-01 14:14:00+00:00</td>\n",
       "      <td>2019-01-15 10:38:00+00:00</td>\n",
       "      <td>True</td>\n",
       "      <td>...</td>\n",
       "      <td>POINT (-123.67556 40.61806)</td>\n",
       "      <td>https://api.darksky.net/forecast/4f4ef1267ba70...</td>\n",
       "      <td>1546390740</td>\n",
       "      <td>0.88</td>\n",
       "      <td>0.0006</td>\n",
       "      <td>52.46</td>\n",
       "      <td>32.19</td>\n",
       "      <td>13.31</td>\n",
       "      <td>0.37</td>\n",
       "      <td>5.86</td>\n",
       "    </tr>\n",
       "    <tr>\n",
       "      <th>398fe2</th>\n",
       "      <td>Scott Fire</td>\n",
       "      <td>39.246780</td>\n",
       "      <td>-121.323990</td>\n",
       "      <td>80</td>\n",
       "      <td>[Yuba]</td>\n",
       "      <td>CAL FIRE Nevada-Yuba-Placer Unit</td>\n",
       "      <td>2019-06-27 08:24:51.860000+00:00</td>\n",
       "      <td>2019-06-25 13:51:09+00:00</td>\n",
       "      <td>2019-06-25 13:50:00+00:00</td>\n",
       "      <td>True</td>\n",
       "      <td>...</td>\n",
       "      <td>POINT (-121.32399 39.24678)</td>\n",
       "      <td>https://api.darksky.net/forecast/4f4ef1267ba70...</td>\n",
       "      <td>1561520220</td>\n",
       "      <td>0.77</td>\n",
       "      <td>0.0004</td>\n",
       "      <td>91.96</td>\n",
       "      <td>60.33</td>\n",
       "      <td>50.88</td>\n",
       "      <td>0.42</td>\n",
       "      <td>4.96</td>\n",
       "    </tr>\n",
       "    <tr>\n",
       "      <th>030e7d</th>\n",
       "      <td>York Fire</td>\n",
       "      <td>35.817780</td>\n",
       "      <td>-120.097150</td>\n",
       "      <td>161</td>\n",
       "      <td>[Kings]</td>\n",
       "      <td>Fresno-Kings County</td>\n",
       "      <td>2019-06-24 11:45:00+00:00</td>\n",
       "      <td>2019-04-28 22:20:00+00:00</td>\n",
       "      <td>2019-06-24 11:45:00+00:00</td>\n",
       "      <td>True</td>\n",
       "      <td>...</td>\n",
       "      <td>POINT (-120.09715 35.81778)</td>\n",
       "      <td>https://api.darksky.net/forecast/4f4ef1267ba70...</td>\n",
       "      <td>1556505960</td>\n",
       "      <td>0.82</td>\n",
       "      <td>0.0009</td>\n",
       "      <td>83.37</td>\n",
       "      <td>56.30</td>\n",
       "      <td>48.51</td>\n",
       "      <td>0.55</td>\n",
       "      <td>7.75</td>\n",
       "    </tr>\n",
       "    <tr>\n",
       "      <th>b5b503</th>\n",
       "      <td>Cana Fire</td>\n",
       "      <td>39.839580</td>\n",
       "      <td>-121.957000</td>\n",
       "      <td>10</td>\n",
       "      <td>[Butte]</td>\n",
       "      <td>CAL FIRE / Butte County Fire</td>\n",
       "      <td>2019-05-08 08:47:00+00:00</td>\n",
       "      <td>2019-04-30 12:20:00+00:00</td>\n",
       "      <td>2019-05-08 08:47:00+00:00</td>\n",
       "      <td>True</td>\n",
       "      <td>...</td>\n",
       "      <td>POINT (-121.95700 39.83958)</td>\n",
       "      <td>https://api.darksky.net/forecast/4f4ef1267ba70...</td>\n",
       "      <td>1556679720</td>\n",
       "      <td>0.88</td>\n",
       "      <td>0.0016</td>\n",
       "      <td>72.21</td>\n",
       "      <td>47.45</td>\n",
       "      <td>45.50</td>\n",
       "      <td>0.60</td>\n",
       "      <td>6.20</td>\n",
       "    </tr>\n",
       "    <tr>\n",
       "      <th>abd7ac</th>\n",
       "      <td>Woody Fire</td>\n",
       "      <td>35.651890</td>\n",
       "      <td>-118.925450</td>\n",
       "      <td>115</td>\n",
       "      <td>[Kern]</td>\n",
       "      <td>Kern County Fire Department</td>\n",
       "      <td>2019-05-08 08:47:00+00:00</td>\n",
       "      <td>2019-04-30 18:37:00+00:00</td>\n",
       "      <td>2019-05-08 08:47:00+00:00</td>\n",
       "      <td>False</td>\n",
       "      <td>...</td>\n",
       "      <td>POINT (-118.92545 35.65189)</td>\n",
       "      <td>https://api.darksky.net/forecast/4f4ef1267ba70...</td>\n",
       "      <td>1556678520</td>\n",
       "      <td>0.88</td>\n",
       "      <td>0.0007</td>\n",
       "      <td>70.64</td>\n",
       "      <td>51.38</td>\n",
       "      <td>46.74</td>\n",
       "      <td>0.63</td>\n",
       "      <td>6.10</td>\n",
       "    </tr>\n",
       "  </tbody>\n",
       "</table>\n",
       "<p>5 rows × 21 columns</p>\n",
       "</div>"
      ],
      "text/plain": [
       "              Name   Latitude   Longitude  AcresBurned    Counties  \\\n",
       "52378c  Pilot Fire  40.618056 -123.675556           30  [Humboldt]   \n",
       "398fe2  Scott Fire  39.246780 -121.323990           80      [Yuba]   \n",
       "030e7d   York Fire  35.817780 -120.097150          161     [Kings]   \n",
       "b5b503   Cana Fire  39.839580 -121.957000           10     [Butte]   \n",
       "abd7ac  Woody Fire  35.651890 -118.925450          115      [Kern]   \n",
       "\n",
       "                               AdminUnit                          Updated  \\\n",
       "52378c   CAL FIRE Humbolt-Del Norte Unit        2019-01-15 10:38:00+00:00   \n",
       "398fe2  CAL FIRE Nevada-Yuba-Placer Unit 2019-06-27 08:24:51.860000+00:00   \n",
       "030e7d               Fresno-Kings County        2019-06-24 11:45:00+00:00   \n",
       "b5b503      CAL FIRE / Butte County Fire        2019-05-08 08:47:00+00:00   \n",
       "abd7ac       Kern County Fire Department        2019-05-08 08:47:00+00:00   \n",
       "\n",
       "                         Started              Extinguished  CalFireIncident  \\\n",
       "52378c 2019-01-01 14:14:00+00:00 2019-01-15 10:38:00+00:00             True   \n",
       "398fe2 2019-06-25 13:51:09+00:00 2019-06-25 13:50:00+00:00             True   \n",
       "030e7d 2019-04-28 22:20:00+00:00 2019-06-24 11:45:00+00:00             True   \n",
       "b5b503 2019-04-30 12:20:00+00:00 2019-05-08 08:47:00+00:00             True   \n",
       "abd7ac 2019-04-30 18:37:00+00:00 2019-05-08 08:47:00+00:00            False   \n",
       "\n",
       "        ...                     geometry  \\\n",
       "52378c  ...  POINT (-123.67556 40.61806)   \n",
       "398fe2  ...  POINT (-121.32399 39.24678)   \n",
       "030e7d  ...  POINT (-120.09715 35.81778)   \n",
       "b5b503  ...  POINT (-121.95700 39.83958)   \n",
       "abd7ac  ...  POINT (-118.92545 35.65189)   \n",
       "\n",
       "                                               RequestURL  sunsetTime  \\\n",
       "52378c  https://api.darksky.net/forecast/4f4ef1267ba70...  1546390740   \n",
       "398fe2  https://api.darksky.net/forecast/4f4ef1267ba70...  1561520220   \n",
       "030e7d  https://api.darksky.net/forecast/4f4ef1267ba70...  1556505960   \n",
       "b5b503  https://api.darksky.net/forecast/4f4ef1267ba70...  1556679720   \n",
       "abd7ac  https://api.darksky.net/forecast/4f4ef1267ba70...  1556678520   \n",
       "\n",
       "        moonPhase  precipIntensity  temperatureHigh  temperatureLow  dewPoint  \\\n",
       "52378c       0.88           0.0006            52.46           32.19     13.31   \n",
       "398fe2       0.77           0.0004            91.96           60.33     50.88   \n",
       "030e7d       0.82           0.0009            83.37           56.30     48.51   \n",
       "b5b503       0.88           0.0016            72.21           47.45     45.50   \n",
       "abd7ac       0.88           0.0007            70.64           51.38     46.74   \n",
       "\n",
       "        humidity  windSpeed  \n",
       "52378c      0.37       5.86  \n",
       "398fe2      0.42       4.96  \n",
       "030e7d      0.55       7.75  \n",
       "b5b503      0.60       6.20  \n",
       "abd7ac      0.63       6.10  \n",
       "\n",
       "[5 rows x 21 columns]"
      ]
     },
     "execution_count": 2,
     "metadata": {},
     "output_type": "execute_result"
    }
   ],
   "source": [
    "# load pickle\n",
    "df = pd.read_pickle('../data/01_fire_weather.pkl')\n",
    "df.head()"
   ]
  },
  {
   "cell_type": "markdown",
   "metadata": {},
   "source": [
    "## Preprocess Data for Modeling"
   ]
  },
  {
   "cell_type": "code",
   "execution_count": 3,
   "metadata": {
    "execution": {
     "iopub.execute_input": "2020-05-26T21:43:06.537958Z",
     "iopub.status.busy": "2020-05-26T21:43:06.537698Z",
     "iopub.status.idle": "2020-05-26T21:43:06.546727Z",
     "shell.execute_reply": "2020-05-26T21:43:06.546131Z",
     "shell.execute_reply.started": "2020-05-26T21:43:06.537927Z"
    }
   },
   "outputs": [],
   "source": [
    "def categorize_dates():\n",
    "    \"\"\"Cast dates features as 'category' type.\"\"\"\n",
    "    df['StartedYear'] = df['Started'].dt.year.astype('category')\n",
    "    df['StartedMonth'] = df['Started'].dt.month_name().astype('category')\n",
    "\n",
    "categorize_dates()"
   ]
  },
  {
   "cell_type": "code",
   "execution_count": 4,
   "metadata": {
    "execution": {
     "iopub.execute_input": "2020-05-26T21:43:06.831803Z",
     "iopub.status.busy": "2020-05-26T21:43:06.831568Z",
     "iopub.status.idle": "2020-05-26T21:43:06.844412Z",
     "shell.execute_reply": "2020-05-26T21:43:06.843458Z",
     "shell.execute_reply.started": "2020-05-26T21:43:06.831776Z"
    }
   },
   "outputs": [
    {
     "data": {
      "text/plain": [
       "['AdminUnit',\n",
       " 'CalFireIncident',\n",
       " 'StartedYear',\n",
       " 'StartedMonth',\n",
       " 'Latitude',\n",
       " 'Longitude',\n",
       " 'sunsetTime',\n",
       " 'moonPhase',\n",
       " 'precipIntensity',\n",
       " 'temperatureHigh',\n",
       " 'temperatureLow',\n",
       " 'dewPoint',\n",
       " 'humidity',\n",
       " 'windSpeed']"
      ]
     },
     "execution_count": 4,
     "metadata": {},
     "output_type": "execute_result"
    }
   ],
   "source": [
    "# define DataFrame with only numerical features\n",
    "num_df = df.select_dtypes(include='number').drop(columns='AcresBurned')\n",
    "\n",
    "# define numerical columns\n",
    "num_cols = num_df.columns\n",
    "\n",
    "# define non-numerical columns\n",
    "cols = ['AdminUnit', 'CalFireIncident',\n",
    "        'StartedYear', 'StartedMonth']\n",
    "\n",
    "# extend 'cols' to include numerical\n",
    "cols.extend(num_df.columns)\n",
    "cols"
   ]
  },
  {
   "cell_type": "code",
   "execution_count": 5,
   "metadata": {
    "execution": {
     "iopub.execute_input": "2020-05-26T21:43:07.481488Z",
     "iopub.status.busy": "2020-05-26T21:43:07.481256Z",
     "iopub.status.idle": "2020-05-26T21:43:07.491015Z",
     "shell.execute_reply": "2020-05-26T21:43:07.490424Z",
     "shell.execute_reply.started": "2020-05-26T21:43:07.481463Z"
    }
   },
   "outputs": [],
   "source": [
    "# define X and y\n",
    "X = df.loc[:, cols]\n",
    "y = df['AcresBurned'].copy()\n",
    "\n",
    "# train test split\n",
    "X_tr, X_test, y_train, y_test = train_test_split(X, y, random_state=1)"
   ]
  },
  {
   "cell_type": "code",
   "execution_count": 6,
   "metadata": {
    "execution": {
     "iopub.execute_input": "2020-05-26T21:43:09.082577Z",
     "iopub.status.busy": "2020-05-26T21:43:09.082337Z",
     "iopub.status.idle": "2020-05-26T21:43:09.119465Z",
     "shell.execute_reply": "2020-05-26T21:43:09.118802Z",
     "shell.execute_reply.started": "2020-05-26T21:43:09.082549Z"
    }
   },
   "outputs": [
    {
     "data": {
      "text/html": [
       "<style>div.sk-top-container {color: black;background-color: white;}div.sk-toggleable {background-color: white;}label.sk-toggleable__label {cursor: pointer;display: block;width: 100%;margin-bottom: 0;padding: 0.2em 0.3em;box-sizing: border-box;text-align: center;}div.sk-toggleable__content {max-height: 0;max-width: 0;overflow: hidden;text-align: left;background-color: #f0f8ff;}div.sk-toggleable__content pre {margin: 0.2em;color: black;border-radius: 0.25em;background-color: #f0f8ff;}input.sk-toggleable__control:checked~div.sk-toggleable__content {max-height: 200px;max-width: 100%;overflow: auto;}div.sk-estimator input.sk-toggleable__control:checked~label.sk-toggleable__label {background-color: #d4ebff;}div.sk-label input.sk-toggleable__control:checked~label.sk-toggleable__label {background-color: #d4ebff;}input.sk-hidden--visually {border: 0;clip: rect(1px 1px 1px 1px);clip: rect(1px, 1px, 1px, 1px);height: 1px;margin: -1px;overflow: hidden;padding: 0;position: absolute;width: 1px;}div.sk-estimator {font-family: monospace;background-color: #f0f8ff;margin: 0.25em 0.25em;border: 1px dotted black;border-radius: 0.25em;box-sizing: border-box;}div.sk-estimator:hover {background-color: #d4ebff;}div.sk-parallel-item::after {content: \"\";width: 100%;border-bottom: 1px solid gray;flex-grow: 1;}div.sk-label:hover label.sk-toggleable__label {background-color: #d4ebff;}div.sk-serial::before {content: \"\";position: absolute;border-left: 1px solid gray;box-sizing: border-box;top: 2em;bottom: 0;left: 50%;}div.sk-serial {display: flex;flex-direction: column;align-items: center;background-color: white;}div.sk-item {z-index: 1;}div.sk-parallel {display: flex;align-items: stretch;justify-content: center;background-color: white;}div.sk-parallel-item {display: flex;flex-direction: column;position: relative;background-color: white;}div.sk-parallel-item:first-child::after {align-self: flex-end;width: 50%;}div.sk-parallel-item:last-child::after {align-self: flex-start;width: 50%;}div.sk-parallel-item:only-child::after {width: 0;}div.sk-dashed-wrapped {border: 1px dashed gray;margin: 0.2em;box-sizing: border-box;padding-bottom: 0.1em;background-color: white;position: relative;}div.sk-label label {font-family: monospace;font-weight: bold;background-color: white;display: inline-block;line-height: 1.2em;}div.sk-label-container {position: relative;z-index: 2;text-align: center;}div.sk-container {display: inline-block;position: relative;}</style><div class=\"sk-top-container\"><div class=\"sk-container\"><div class=\"sk-item sk-dashed-wrapped\"><div class=\"sk-label-container\"><div class=\"sk-label sk-toggleable\"><input class=\"sk-toggleable__control sk-hidden--visually\" id=\"da58f5f9-165f-4345-b865-c5a4dea8c4a7\" type=\"checkbox\" ><label class=\"sk-toggleable__label\" for=\"da58f5f9-165f-4345-b865-c5a4dea8c4a7\">ColumnTransformer</label><div class=\"sk-toggleable__content\"><pre>ColumnTransformer(transformers=[('countvectorizer', CountVectorizer(),\n",
       "                                 'AdminUnit'),\n",
       "                                ('onehotencoder',\n",
       "                                 OneHotEncoder(handle_unknown='ignore'),\n",
       "                                 ['CalFireIncident', 'StartedYear',\n",
       "                                  'StartedMonth']),\n",
       "                                ('pipeline',\n",
       "                                 Pipeline(steps=[('simpleimputer',\n",
       "                                                  SimpleImputer()),\n",
       "                                                 ('standardscaler',\n",
       "                                                  StandardScaler())]),\n",
       "                                 Index(['Latitude', 'Longitude', 'sunsetTime', 'moonPhase', 'precipIntensity',\n",
       "       'temperatureHigh', 'temperatureLow', 'dewPoint', 'humidity',\n",
       "       'windSpeed'],\n",
       "      dtype='object'))])</pre></div></div></div><div class=\"sk-parallel\"><div class=\"sk-parallel-item\"><div class=\"sk-item\"><div class=\"sk-label-container\"><div class=\"sk-label sk-toggleable\"><input class=\"sk-toggleable__control sk-hidden--visually\" id=\"a8658392-7354-4a90-a088-3a6de0166c1c\" type=\"checkbox\" ><label class=\"sk-toggleable__label\" for=\"a8658392-7354-4a90-a088-3a6de0166c1c\">countvectorizer</label><div class=\"sk-toggleable__content\"><pre>AdminUnit</pre></div></div></div><div class=\"sk-serial\"><div class=\"sk-item\"><div class=\"sk-estimator sk-toggleable\"><input class=\"sk-toggleable__control sk-hidden--visually\" id=\"710139aa-567e-4f9e-b34d-66515613d210\" type=\"checkbox\" ><label class=\"sk-toggleable__label\" for=\"710139aa-567e-4f9e-b34d-66515613d210\">CountVectorizer</label><div class=\"sk-toggleable__content\"><pre>CountVectorizer()</pre></div></div></div></div></div></div><div class=\"sk-parallel-item\"><div class=\"sk-item\"><div class=\"sk-label-container\"><div class=\"sk-label sk-toggleable\"><input class=\"sk-toggleable__control sk-hidden--visually\" id=\"9301ee08-86f2-438e-a4a4-74a2f10d5308\" type=\"checkbox\" ><label class=\"sk-toggleable__label\" for=\"9301ee08-86f2-438e-a4a4-74a2f10d5308\">onehotencoder</label><div class=\"sk-toggleable__content\"><pre>['CalFireIncident', 'StartedYear', 'StartedMonth']</pre></div></div></div><div class=\"sk-serial\"><div class=\"sk-item\"><div class=\"sk-estimator sk-toggleable\"><input class=\"sk-toggleable__control sk-hidden--visually\" id=\"15183a81-6652-4304-adef-fe63ffd21d2e\" type=\"checkbox\" ><label class=\"sk-toggleable__label\" for=\"15183a81-6652-4304-adef-fe63ffd21d2e\">OneHotEncoder</label><div class=\"sk-toggleable__content\"><pre>OneHotEncoder(handle_unknown='ignore')</pre></div></div></div></div></div></div><div class=\"sk-parallel-item\"><div class=\"sk-item\"><div class=\"sk-label-container\"><div class=\"sk-label sk-toggleable\"><input class=\"sk-toggleable__control sk-hidden--visually\" id=\"874aa5de-6da4-47a4-9fab-d53e7faad8c3\" type=\"checkbox\" ><label class=\"sk-toggleable__label\" for=\"874aa5de-6da4-47a4-9fab-d53e7faad8c3\">pipeline</label><div class=\"sk-toggleable__content\"><pre>Index(['Latitude', 'Longitude', 'sunsetTime', 'moonPhase', 'precipIntensity',\n",
       "       'temperatureHigh', 'temperatureLow', 'dewPoint', 'humidity',\n",
       "       'windSpeed'],\n",
       "      dtype='object')</pre></div></div></div><div class=\"sk-serial\"><div class=\"sk-item\"><div class=\"sk-serial\"><div class=\"sk-item\"><div class=\"sk-estimator sk-toggleable\"><input class=\"sk-toggleable__control sk-hidden--visually\" id=\"6cf1c36c-4112-4d0c-a77d-02ac820b606d\" type=\"checkbox\" ><label class=\"sk-toggleable__label\" for=\"6cf1c36c-4112-4d0c-a77d-02ac820b606d\">SimpleImputer</label><div class=\"sk-toggleable__content\"><pre>SimpleImputer()</pre></div></div></div><div class=\"sk-item\"><div class=\"sk-estimator sk-toggleable\"><input class=\"sk-toggleable__control sk-hidden--visually\" id=\"b40d7e18-50fd-4232-8b6a-cffdb81bc29f\" type=\"checkbox\" ><label class=\"sk-toggleable__label\" for=\"b40d7e18-50fd-4232-8b6a-cffdb81bc29f\">StandardScaler</label><div class=\"sk-toggleable__content\"><pre>StandardScaler()</pre></div></div></div></div></div></div></div></div></div></div></div></div>"
      ],
      "text/plain": [
       "ColumnTransformer(transformers=[('countvectorizer', CountVectorizer(),\n",
       "                                 'AdminUnit'),\n",
       "                                ('onehotencoder',\n",
       "                                 OneHotEncoder(handle_unknown='ignore'),\n",
       "                                 ['CalFireIncident', 'StartedYear',\n",
       "                                  'StartedMonth']),\n",
       "                                ('pipeline',\n",
       "                                 Pipeline(steps=[('simpleimputer',\n",
       "                                                  SimpleImputer()),\n",
       "                                                 ('standardscaler',\n",
       "                                                  StandardScaler())]),\n",
       "                                 Index(['Latitude', 'Longitude', 'sunsetTime', 'moonPhase', 'precipIntensity',\n",
       "       'temperatureHigh', 'temperatureLow', 'dewPoint', 'humidity',\n",
       "       'windSpeed'],\n",
       "      dtype='object'))])"
      ]
     },
     "execution_count": 6,
     "metadata": {},
     "output_type": "execute_result"
    }
   ],
   "source": [
    "# construct pipeline for numerical attributes\n",
    "num_pipeline = make_pipeline(SimpleImputer(), StandardScaler())\n",
    "\n",
    "# construct column transformer\n",
    "col_tr = make_column_transformer(\n",
    "    (CountVectorizer(), 'AdminUnit'),\n",
    "    (OneHotEncoder(handle_unknown='ignore'),\n",
    "     ['CalFireIncident', 'StartedYear', 'StartedMonth']),\n",
    "    (num_pipeline, num_cols),\n",
    ")\n",
    "\n",
    "# display pipeline diagram\n",
    "col_tr"
   ]
  },
  {
   "cell_type": "code",
   "execution_count": 7,
   "metadata": {
    "execution": {
     "iopub.execute_input": "2020-05-26T21:43:09.516397Z",
     "iopub.status.busy": "2020-05-26T21:43:09.516134Z",
     "iopub.status.idle": "2020-05-26T21:43:09.544355Z",
     "shell.execute_reply": "2020-05-26T21:43:09.543437Z",
     "shell.execute_reply.started": "2020-05-26T21:43:09.516367Z"
    }
   },
   "outputs": [],
   "source": [
    "# transform X training set\n",
    "X_train = col_tr.fit_transform(X_tr)"
   ]
  },
  {
   "cell_type": "markdown",
   "metadata": {},
   "source": [
    "Since we'll be testing several models, let's define a function `train_model` that makes a pipeline, trains the model, and prints regression metrics."
   ]
  },
  {
   "cell_type": "markdown",
   "metadata": {},
   "source": [
    "## Define Functions for Model Selection"
   ]
  },
  {
   "cell_type": "markdown",
   "metadata": {},
   "source": [
    "Since we'll be testing several models, let's define a function `train_model` that makes a pipeline, trains the model, and prints regression metrics.\n",
    "\n",
    "We'll also define the function `cv_rmse_scores` to cross-validate a model and print RMSE scores."
   ]
  },
  {
   "cell_type": "code",
   "execution_count": 8,
   "metadata": {
    "execution": {
     "iopub.execute_input": "2020-05-26T21:43:11.861111Z",
     "iopub.status.busy": "2020-05-26T21:43:11.860878Z",
     "iopub.status.idle": "2020-05-26T21:43:11.866329Z",
     "shell.execute_reply": "2020-05-26T21:43:11.865448Z",
     "shell.execute_reply.started": "2020-05-26T21:43:11.861083Z"
    }
   },
   "outputs": [],
   "source": [
    "def train_model(model, X=X_train):\n",
    "    \"\"\"Input model, print scores, return trained model.\"\"\"\n",
    "    # train model\n",
    "    model.fit(X, y_train)\n",
    "\n",
    "    # make predictions\n",
    "    y_pred = model.predict(X)\n",
    "\n",
    "    # Mean Absolute Error\n",
    "    mae = mean_absolute_error(y_train, y_pred)\n",
    "    print(f'MAE = {int(mae)}')\n",
    "\n",
    "    # Mean Squared Error\n",
    "    mse = mean_squared_error(y_train, y_pred)\n",
    "    # print(f'MSE = {int(mse)}')\n",
    "\n",
    "    # Root Mean Squared Error\n",
    "    rmse = np.sqrt(mse)\n",
    "    print(f'RMSE = {int(rmse)}')\n",
    "\n",
    "    # R^2 Metric\n",
    "    r2 = r2_score(y_train, y_pred)\n",
    "    print(f'R^2 = {round(r2, 3)}')\n",
    "\n",
    "    return model"
   ]
  },
  {
   "cell_type": "code",
   "execution_count": 9,
   "metadata": {
    "execution": {
     "iopub.execute_input": "2020-05-26T21:43:12.484348Z",
     "iopub.status.busy": "2020-05-26T21:43:12.484112Z",
     "iopub.status.idle": "2020-05-26T21:43:12.490386Z",
     "shell.execute_reply": "2020-05-26T21:43:12.489637Z",
     "shell.execute_reply.started": "2020-05-26T21:43:12.484321Z"
    }
   },
   "outputs": [],
   "source": [
    "# performance dictionary for model comparison\n",
    "training_model_performance = {}\n",
    "\n",
    "def cv_rmse_scores(model_name, model, X=X_train):\n",
    "    \"\"\"Cross-validates model and prints RMSE scores.\n",
    "    \n",
    "    :param model_name: Name of the model to be used for comparison.\n",
    "    :param model: Variable of the model that will be cross-validated.\n",
    "    :param X: Defaults to X_train.\n",
    "    \"\"\"\n",
    "    # get cross-validation MSE score\n",
    "    scores = cross_val_score(model, X, y_train,\n",
    "                             scoring=\"neg_mean_squared_error\", cv=10,\n",
    "                             n_jobs=-1)\n",
    "    \n",
    "    # get RMSE by taking the square root of MSE\n",
    "    rmse_scores = np.sqrt(-scores)\n",
    "    mean = int(rmse_scores.mean())\n",
    "    std = int(rmse_scores.std())\n",
    "    \n",
    "    \n",
    "    # print score\n",
    "    print('RMSE Scores - 10 fold')\n",
    "    print('* mean:', mean)\n",
    "    print('* std:', std)\n",
    "\n",
    "    # add score to performance dict\n",
    "    training_model_performance[model_name] = {'rmse': mean, 'std': std}"
   ]
  },
  {
   "cell_type": "markdown",
   "metadata": {},
   "source": [
    "## Model Selection"
   ]
  },
  {
   "cell_type": "markdown",
   "metadata": {},
   "source": [
    "We'll be training and comparing three models, including:\n",
    "* Linear Regression\n",
    "* Decision Tree Regressor\n",
    "* Random Forest Regressor\n",
    "\n",
    "After comparison, we'll use grid search to tune the hyperparameters."
   ]
  },
  {
   "cell_type": "markdown",
   "metadata": {},
   "source": [
    "### Linear Regression"
   ]
  },
  {
   "cell_type": "code",
   "execution_count": 10,
   "metadata": {
    "execution": {
     "iopub.execute_input": "2020-05-26T21:45:07.831840Z",
     "iopub.status.busy": "2020-05-26T21:45:07.831581Z",
     "iopub.status.idle": "2020-05-26T21:45:07.943066Z",
     "shell.execute_reply": "2020-05-26T21:45:07.942371Z",
     "shell.execute_reply.started": "2020-05-26T21:45:07.831811Z"
    }
   },
   "outputs": [
    {
     "name": "stdout",
     "output_type": "stream",
     "text": [
      "MAE = 5472\n",
      "RMSE = 15214\n",
      "R^2 = 0.396\n"
     ]
    }
   ],
   "source": [
    "# instantiate linear regression base model \n",
    "lin_reg = LinearRegression()\n",
    "\n",
    "# train model and print scores \n",
    "train_model(lin_reg);"
   ]
  },
  {
   "cell_type": "code",
   "execution_count": 11,
   "metadata": {
    "execution": {
     "iopub.execute_input": "2020-05-26T21:45:08.562175Z",
     "iopub.status.busy": "2020-05-26T21:45:08.561943Z",
     "iopub.status.idle": "2020-05-26T21:45:09.895423Z",
     "shell.execute_reply": "2020-05-26T21:45:09.894479Z",
     "shell.execute_reply.started": "2020-05-26T21:45:08.562147Z"
    }
   },
   "outputs": [
    {
     "name": "stdout",
     "output_type": "stream",
     "text": [
      "RMSE Scores - 10 fold\n",
      "* mean: 19726\n",
      "* std: 8832\n"
     ]
    }
   ],
   "source": [
    "# cross-validation\n",
    "cv_rmse_scores('Linear Regression', lin_reg)"
   ]
  },
  {
   "cell_type": "markdown",
   "metadata": {},
   "source": [
    "### Decision Tree Regressor"
   ]
  },
  {
   "cell_type": "markdown",
   "metadata": {},
   "source": [
    "Let’s train a **Decision Tree Regressor**. This is a powerful model, capable of finding complex nonlinear relationships in the data"
   ]
  },
  {
   "cell_type": "code",
   "execution_count": 12,
   "metadata": {
    "execution": {
     "iopub.execute_input": "2020-05-26T21:45:16.942661Z",
     "iopub.status.busy": "2020-05-26T21:45:16.942409Z",
     "iopub.status.idle": "2020-05-26T21:45:17.013536Z",
     "shell.execute_reply": "2020-05-26T21:45:17.012921Z",
     "shell.execute_reply.started": "2020-05-26T21:45:16.942632Z"
    }
   },
   "outputs": [
    {
     "name": "stdout",
     "output_type": "stream",
     "text": [
      "MAE = 0\n",
      "RMSE = 0\n",
      "R^2 = 1.0\n"
     ]
    }
   ],
   "source": [
    "# instantiate decision tree base model\n",
    "tree_reg = DecisionTreeRegressor(random_state=1)\n",
    "\n",
    "# train model and print scores\n",
    "train_model(tree_reg);"
   ]
  },
  {
   "cell_type": "markdown",
   "metadata": {},
   "source": [
    "Wait, what!? No error at all? Could this model really be absolutely perfect? Of course, it is much more likely that the model has badly overfit the data.\n",
    "\n",
    "Let's use Scikit-Learn's `cross-validation` to evaluate."
   ]
  },
  {
   "cell_type": "code",
   "execution_count": 13,
   "metadata": {
    "execution": {
     "iopub.execute_input": "2020-05-26T21:45:19.209072Z",
     "iopub.status.busy": "2020-05-26T21:45:19.208808Z",
     "iopub.status.idle": "2020-05-26T21:45:19.754302Z",
     "shell.execute_reply": "2020-05-26T21:45:19.753510Z",
     "shell.execute_reply.started": "2020-05-26T21:45:19.209041Z"
    }
   },
   "outputs": [
    {
     "name": "stdout",
     "output_type": "stream",
     "text": [
      "RMSE Scores - 10 fold\n",
      "* mean: 24758\n",
      "* std: 14149\n"
     ]
    }
   ],
   "source": [
    "# cross-validation\n",
    "cv_rmse_scores('Decison Tree', tree_reg)"
   ]
  },
  {
   "cell_type": "markdown",
   "metadata": {},
   "source": [
    "Now the Decision Tree doesn’t look as good as it did earlier. In fact, it seems to perform worse than the Linear Regression model!"
   ]
  },
  {
   "cell_type": "markdown",
   "metadata": {},
   "source": [
    "### Random Forest Regressor"
   ]
  },
  {
   "cell_type": "code",
   "execution_count": 14,
   "metadata": {
    "execution": {
     "iopub.execute_input": "2020-05-26T21:45:23.020186Z",
     "iopub.status.busy": "2020-05-26T21:45:23.019927Z",
     "iopub.status.idle": "2020-05-26T21:45:26.176726Z",
     "shell.execute_reply": "2020-05-26T21:45:26.176042Z",
     "shell.execute_reply.started": "2020-05-26T21:45:23.020156Z"
    }
   },
   "outputs": [
    {
     "name": "stdout",
     "output_type": "stream",
     "text": [
      "MAE = 1850\n",
      "RMSE = 8350\n",
      "R^2 = 0.818\n"
     ]
    }
   ],
   "source": [
    "# instantiate random forest base model\n",
    "forest_reg = RandomForestRegressor(random_state=1)\n",
    "\n",
    "# train model and print scores\n",
    "train_model(forest_reg);"
   ]
  },
  {
   "cell_type": "code",
   "execution_count": 15,
   "metadata": {
    "execution": {
     "iopub.execute_input": "2020-05-26T21:45:26.178557Z",
     "iopub.status.busy": "2020-05-26T21:45:26.178387Z",
     "iopub.status.idle": "2020-05-26T21:45:29.800937Z",
     "shell.execute_reply": "2020-05-26T21:45:29.800324Z",
     "shell.execute_reply.started": "2020-05-26T21:45:26.178538Z"
    }
   },
   "outputs": [
    {
     "name": "stdout",
     "output_type": "stream",
     "text": [
      "RMSE Scores - 10 fold\n",
      "* mean: 18061\n",
      "* std: 9984\n"
     ]
    }
   ],
   "source": [
    "# cross-validation\n",
    "cv_rmse_scores('Random Forest', forest_reg)"
   ]
  },
  {
   "cell_type": "markdown",
   "metadata": {},
   "source": [
    "The Random Forest Regressor performed the best so we'll be tuning the hyperparameters to improve its performance."
   ]
  },
  {
   "cell_type": "markdown",
   "metadata": {},
   "source": [
    "### Random Forest Regressor – Grid Search "
   ]
  },
  {
   "cell_type": "code",
   "execution_count": 18,
   "metadata": {
    "execution": {
     "iopub.execute_input": "2020-05-26T21:48:26.503542Z",
     "iopub.status.busy": "2020-05-26T21:48:26.503311Z",
     "iopub.status.idle": "2020-05-26T21:49:36.802132Z",
     "shell.execute_reply": "2020-05-26T21:49:36.801655Z",
     "shell.execute_reply.started": "2020-05-26T21:48:26.503515Z"
    }
   },
   "outputs": [
    {
     "data": {
      "text/plain": [
       "{'bootstrap': True,\n",
       " 'max_depth': 90,\n",
       " 'max_features': 'sqrt',\n",
       " 'min_samples_leaf': 1,\n",
       " 'min_samples_split': 2,\n",
       " 'n_estimators': 200}"
      ]
     },
     "execution_count": 18,
     "metadata": {},
     "output_type": "execute_result"
    }
   ],
   "source": [
    "# define grid\n",
    "param_grid = {\n",
    "    'n_estimators': [200, 300, 400, 500],\n",
    "    'max_features': ['sqrt'],\n",
    "    'max_depth': [90, 100, 110, 120],\n",
    "    'min_samples_split': [1, 2, 3],\n",
    "    'min_samples_leaf': [1, 2, 3],\n",
    "    'bootstrap': [True],\n",
    "}\n",
    "\n",
    "# find best hyperparameters\n",
    "rf_grid = GridSearchCV(\n",
    "    estimator=forest_reg,\n",
    "    param_grid=param_grid,\n",
    "    cv=5,\n",
    "    scoring='neg_mean_squared_error',\n",
    "    n_jobs=-1\n",
    ")\n",
    "\n",
    "# fit the grid model\n",
    "rf_grid.fit(X_train, y_train)\n",
    "\n",
    "# view best parameters\n",
    "rf_grid.best_params_"
   ]
  },
  {
   "cell_type": "code",
   "execution_count": 19,
   "metadata": {
    "execution": {
     "iopub.execute_input": "2020-05-26T21:49:44.042389Z",
     "iopub.status.busy": "2020-05-26T21:49:44.042156Z",
     "iopub.status.idle": "2020-05-26T21:49:45.240208Z",
     "shell.execute_reply": "2020-05-26T21:49:45.239295Z",
     "shell.execute_reply.started": "2020-05-26T21:49:44.042362Z"
    }
   },
   "outputs": [
    {
     "name": "stdout",
     "output_type": "stream",
     "text": [
      "RMSE Scores - 10 fold\n",
      "* mean: 16029\n",
      "* std: 10302\n"
     ]
    }
   ],
   "source": [
    "cv_rmse_scores('Random Forest - Grid', rf_grid.best_estimator_)"
   ]
  },
  {
   "cell_type": "code",
   "execution_count": 24,
   "metadata": {
    "execution": {
     "iopub.execute_input": "2020-05-26T21:50:58.239485Z",
     "iopub.status.busy": "2020-05-26T21:50:58.239238Z",
     "iopub.status.idle": "2020-05-26T21:50:58.248335Z",
     "shell.execute_reply": "2020-05-26T21:50:58.247544Z",
     "shell.execute_reply.started": "2020-05-26T21:50:58.239456Z"
    }
   },
   "outputs": [
    {
     "data": {
      "text/html": [
       "<div>\n",
       "<style scoped>\n",
       "    .dataframe tbody tr th:only-of-type {\n",
       "        vertical-align: middle;\n",
       "    }\n",
       "\n",
       "    .dataframe tbody tr th {\n",
       "        vertical-align: top;\n",
       "    }\n",
       "\n",
       "    .dataframe thead th {\n",
       "        text-align: right;\n",
       "    }\n",
       "</style>\n",
       "<table border=\"1\" class=\"dataframe\">\n",
       "  <thead>\n",
       "    <tr style=\"text-align: right;\">\n",
       "      <th></th>\n",
       "      <th>rmse</th>\n",
       "      <th>std</th>\n",
       "    </tr>\n",
       "  </thead>\n",
       "  <tbody>\n",
       "    <tr>\n",
       "      <th>Random Forest - Grid</th>\n",
       "      <td>16029</td>\n",
       "      <td>10302</td>\n",
       "    </tr>\n",
       "    <tr>\n",
       "      <th>Random Forest</th>\n",
       "      <td>18061</td>\n",
       "      <td>9984</td>\n",
       "    </tr>\n",
       "    <tr>\n",
       "      <th>Linear Regression</th>\n",
       "      <td>19726</td>\n",
       "      <td>8832</td>\n",
       "    </tr>\n",
       "    <tr>\n",
       "      <th>Decison Tree</th>\n",
       "      <td>24758</td>\n",
       "      <td>14149</td>\n",
       "    </tr>\n",
       "  </tbody>\n",
       "</table>\n",
       "</div>"
      ],
      "text/plain": [
       "                       rmse    std\n",
       "Random Forest - Grid  16029  10302\n",
       "Random Forest         18061   9984\n",
       "Linear Regression     19726   8832\n",
       "Decison Tree          24758  14149"
      ]
     },
     "execution_count": 24,
     "metadata": {},
     "output_type": "execute_result"
    }
   ],
   "source": [
    "# compare model performance\n",
    "pd.DataFrame.from_dict(training_model_performance, orient='index').sort_values('rmse')"
   ]
  },
  {
   "cell_type": "markdown",
   "metadata": {},
   "source": [
    "## Feature Importance"
   ]
  },
  {
   "cell_type": "code",
   "execution_count": 25,
   "metadata": {
    "execution": {
     "iopub.execute_input": "2020-05-26T21:57:36.679389Z",
     "iopub.status.busy": "2020-05-26T21:57:36.679160Z",
     "iopub.status.idle": "2020-05-26T21:57:36.704749Z",
     "shell.execute_reply": "2020-05-26T21:57:36.704068Z",
     "shell.execute_reply.started": "2020-05-26T21:57:36.679363Z"
    }
   },
   "outputs": [],
   "source": [
    "feature_importances = rf_grid.best_estimator_.feature_importances_"
   ]
  },
  {
   "cell_type": "code",
   "execution_count": 26,
   "metadata": {
    "execution": {
     "iopub.execute_input": "2020-05-26T21:57:38.701708Z",
     "iopub.status.busy": "2020-05-26T21:57:38.701429Z",
     "iopub.status.idle": "2020-05-26T21:57:38.706162Z",
     "shell.execute_reply": "2020-05-26T21:57:38.705547Z",
     "shell.execute_reply.started": "2020-05-26T21:57:38.701682Z"
    }
   },
   "outputs": [],
   "source": [
    "attributes = []\n",
    "\n",
    "# get count vectorizer attributes\n",
    "ctv = col_tr.named_transformers_['countvectorizer']\n",
    "ctv_attr = ctv.get_feature_names()\n",
    "attributes.extend(ctv_attr)\n",
    "\n",
    "# get one hot encoder attributes\n",
    "ohe = col_tr.named_transformers_['onehotencoder']\n",
    "for lst in ohe.categories_:\n",
    "    attributes.extend(lst)\n",
    "\n",
    "# add nummerical attributes\n",
    "attributes.extend(num_cols)"
   ]
  },
  {
   "cell_type": "code",
   "execution_count": 27,
   "metadata": {
    "execution": {
     "iopub.execute_input": "2020-05-26T21:57:42.354997Z",
     "iopub.status.busy": "2020-05-26T21:57:42.354751Z",
     "iopub.status.idle": "2020-05-26T21:57:42.360933Z",
     "shell.execute_reply": "2020-05-26T21:57:42.360252Z",
     "shell.execute_reply.started": "2020-05-26T21:57:42.354968Z"
    }
   },
   "outputs": [
    {
     "data": {
      "text/plain": [
       "[(0.06756729310263114, 'temperatureHigh'),\n",
       " (0.054863517114637855, 'national'),\n",
       " (0.049454233058986816, 'Longitude'),\n",
       " (0.04928099867022682, 'windSpeed'),\n",
       " (0.04558114408915441, 'dewPoint'),\n",
       " (0.04550493772876473, 'mendocino'),\n",
       " (0.0429214779803063, 'sunsetTime'),\n",
       " (0.042853617898527326, 'Latitude'),\n",
       " (0.04009326059906519, 'moonPhase'),\n",
       " (0.03967647746319461, 'temperatureLow'),\n",
       " (0.034937593344242346, 'humidity'),\n",
       " (0.03310273407143319, 'precipIntensity'),\n",
       " (0.03284155611952913, 'area'),\n",
       " (0.024317457245231853, 'yosemite'),\n",
       " (0.021647703540426937, 'sierra'),\n",
       " (0.02137865137869709, False),\n",
       " (0.02035731699595511, 'forest'),\n",
       " (0.020171420263523733, 'usfs'),\n",
       " (0.016964888992012574, 'July'),\n",
       " (0.016805207805763837, 'park')]"
      ]
     },
     "execution_count": 27,
     "metadata": {},
     "output_type": "execute_result"
    }
   ],
   "source": [
    "# show top 20 features\n",
    "sorted(zip(feature_importances, attributes), reverse=True)[:20]"
   ]
  },
  {
   "cell_type": "code",
   "execution_count": 37,
   "metadata": {
    "execution": {
     "iopub.execute_input": "2020-05-26T22:09:52.882376Z",
     "iopub.status.busy": "2020-05-26T22:09:52.882135Z",
     "iopub.status.idle": "2020-05-26T22:09:52.888802Z",
     "shell.execute_reply": "2020-05-26T22:09:52.888118Z",
     "shell.execute_reply.started": "2020-05-26T22:09:52.882343Z"
    }
   },
   "outputs": [],
   "source": [
    "def indices_of_top_k(arr, k):\n",
    "    return np.sort(np.argpartition(np.array(arr), -k)[-k:])\n",
    "\n",
    "class TopFeatureSelector(BaseEstimator, TransformerMixin):\n",
    "    \"\"\"Feature selector class to select top features.\"\"\"\n",
    "\n",
    "    def __init__(self, feature_importances, k):\n",
    "        self.feature_importances = feature_importances\n",
    "        self.k = k\n",
    "\n",
    "    def fit(self, X, y=None):\n",
    "        self.feature_indices_ = indices_of_top_k(self.feature_importances, self.k)\n",
    "        return self\n",
    "\n",
    "    def transform(self, X):\n",
    "        return X[:, self.feature_indices_]"
   ]
  },
  {
   "cell_type": "markdown",
   "metadata": {},
   "source": [
    "Let's first try including the top 20 features and compare."
   ]
  },
  {
   "cell_type": "code",
   "execution_count": 38,
   "metadata": {
    "execution": {
     "iopub.execute_input": "2020-05-26T22:10:25.969393Z",
     "iopub.status.busy": "2020-05-26T22:10:25.969155Z",
     "iopub.status.idle": "2020-05-26T22:10:25.973544Z",
     "shell.execute_reply": "2020-05-26T22:10:25.972825Z",
     "shell.execute_reply.started": "2020-05-26T22:10:25.969364Z"
    }
   },
   "outputs": [],
   "source": [
    "# define k\n",
    "k = 20\n",
    "\n",
    "# sort feature importances\n",
    "sorted(zip(feature_importances, attributes), reverse=True)[:k];"
   ]
  },
  {
   "cell_type": "markdown",
   "metadata": {},
   "source": [
    "Let's also define our full pipeline which includes a column transformer, feature selection, and estimator."
   ]
  },
  {
   "cell_type": "code",
   "execution_count": 45,
   "metadata": {
    "execution": {
     "iopub.execute_input": "2020-05-26T22:15:50.922724Z",
     "iopub.status.busy": "2020-05-26T22:15:50.922476Z",
     "iopub.status.idle": "2020-05-26T22:15:51.235567Z",
     "shell.execute_reply": "2020-05-26T22:15:51.235113Z",
     "shell.execute_reply.started": "2020-05-26T22:15:50.922695Z"
    }
   },
   "outputs": [
    {
     "data": {
      "text/html": [
       "<style>div.sk-top-container {color: black;background-color: white;}div.sk-toggleable {background-color: white;}label.sk-toggleable__label {cursor: pointer;display: block;width: 100%;margin-bottom: 0;padding: 0.2em 0.3em;box-sizing: border-box;text-align: center;}div.sk-toggleable__content {max-height: 0;max-width: 0;overflow: hidden;text-align: left;background-color: #f0f8ff;}div.sk-toggleable__content pre {margin: 0.2em;color: black;border-radius: 0.25em;background-color: #f0f8ff;}input.sk-toggleable__control:checked~div.sk-toggleable__content {max-height: 200px;max-width: 100%;overflow: auto;}div.sk-estimator input.sk-toggleable__control:checked~label.sk-toggleable__label {background-color: #d4ebff;}div.sk-label input.sk-toggleable__control:checked~label.sk-toggleable__label {background-color: #d4ebff;}input.sk-hidden--visually {border: 0;clip: rect(1px 1px 1px 1px);clip: rect(1px, 1px, 1px, 1px);height: 1px;margin: -1px;overflow: hidden;padding: 0;position: absolute;width: 1px;}div.sk-estimator {font-family: monospace;background-color: #f0f8ff;margin: 0.25em 0.25em;border: 1px dotted black;border-radius: 0.25em;box-sizing: border-box;}div.sk-estimator:hover {background-color: #d4ebff;}div.sk-parallel-item::after {content: \"\";width: 100%;border-bottom: 1px solid gray;flex-grow: 1;}div.sk-label:hover label.sk-toggleable__label {background-color: #d4ebff;}div.sk-serial::before {content: \"\";position: absolute;border-left: 1px solid gray;box-sizing: border-box;top: 2em;bottom: 0;left: 50%;}div.sk-serial {display: flex;flex-direction: column;align-items: center;background-color: white;}div.sk-item {z-index: 1;}div.sk-parallel {display: flex;align-items: stretch;justify-content: center;background-color: white;}div.sk-parallel-item {display: flex;flex-direction: column;position: relative;background-color: white;}div.sk-parallel-item:first-child::after {align-self: flex-end;width: 50%;}div.sk-parallel-item:last-child::after {align-self: flex-start;width: 50%;}div.sk-parallel-item:only-child::after {width: 0;}div.sk-dashed-wrapped {border: 1px dashed gray;margin: 0.2em;box-sizing: border-box;padding-bottom: 0.1em;background-color: white;position: relative;}div.sk-label label {font-family: monospace;font-weight: bold;background-color: white;display: inline-block;line-height: 1.2em;}div.sk-label-container {position: relative;z-index: 2;text-align: center;}div.sk-container {display: inline-block;position: relative;}</style><div class=\"sk-top-container\"><div class=\"sk-container\"><div class=\"sk-item sk-dashed-wrapped\"><div class=\"sk-label-container\"><div class=\"sk-label sk-toggleable\"><input class=\"sk-toggleable__control sk-hidden--visually\" id=\"1feae808-9ac5-4f35-b7e6-c65f165943ee\" type=\"checkbox\" ><label class=\"sk-toggleable__label\" for=\"1feae808-9ac5-4f35-b7e6-c65f165943ee\">Pipeline</label><div class=\"sk-toggleable__content\"><pre>Pipeline(steps=[('col_transformer',\n",
       "                 ColumnTransformer(transformers=[('countvectorizer',\n",
       "                                                  CountVectorizer(),\n",
       "                                                  'AdminUnit'),\n",
       "                                                 ('onehotencoder',\n",
       "                                                  OneHotEncoder(handle_unknown='ignore'),\n",
       "                                                  ['CalFireIncident',\n",
       "                                                   'StartedYear',\n",
       "                                                   'StartedMonth']),\n",
       "                                                 ('pipeline',\n",
       "                                                  Pipeline(steps=[('simpleimputer',\n",
       "                                                                   SimpleImputer()),\n",
       "                                                                  ('standardscaler',\n",
       "                                                                   StandardScaler())]),\n",
       "                                                  Index(['Latitude', 'Longitud...\n",
       "       7.43068918e-03, 5.21670928e-04, 5.61845250e-07, 5.92402461e-06,\n",
       "       1.69648890e-02, 4.34380728e-03, 3.82210621e-06, 7.62437083e-04,\n",
       "       1.77831343e-03, 1.20546879e-03, 3.05456670e-03, 4.28536179e-02,\n",
       "       4.94542331e-02, 4.29214780e-02, 4.00932606e-02, 3.31027341e-02,\n",
       "       6.75672931e-02, 3.96764775e-02, 4.55811441e-02, 3.49375933e-02,\n",
       "       4.92809987e-02]),\n",
       "                                    k=20)),\n",
       "                ('rf_reg',\n",
       "                 RandomForestRegressor(max_depth=90, max_features='sqrt',\n",
       "                                       n_estimators=200))])</pre></div></div></div><div class=\"sk-serial\"><div class=\"sk-item sk-dashed-wrapped\"><div class=\"sk-label-container\"><div class=\"sk-label sk-toggleable\"><input class=\"sk-toggleable__control sk-hidden--visually\" id=\"4bd5c1d2-e5be-4bf1-b3d0-dc3c9664a8dd\" type=\"checkbox\" ><label class=\"sk-toggleable__label\" for=\"4bd5c1d2-e5be-4bf1-b3d0-dc3c9664a8dd\">col_transformer: ColumnTransformer</label><div class=\"sk-toggleable__content\"><pre>ColumnTransformer(transformers=[('countvectorizer', CountVectorizer(),\n",
       "                                 'AdminUnit'),\n",
       "                                ('onehotencoder',\n",
       "                                 OneHotEncoder(handle_unknown='ignore'),\n",
       "                                 ['CalFireIncident', 'StartedYear',\n",
       "                                  'StartedMonth']),\n",
       "                                ('pipeline',\n",
       "                                 Pipeline(steps=[('simpleimputer',\n",
       "                                                  SimpleImputer()),\n",
       "                                                 ('standardscaler',\n",
       "                                                  StandardScaler())]),\n",
       "                                 Index(['Latitude', 'Longitude', 'sunsetTime', 'moonPhase', 'precipIntensity',\n",
       "       'temperatureHigh', 'temperatureLow', 'dewPoint', 'humidity',\n",
       "       'windSpeed'],\n",
       "      dtype='object'))])</pre></div></div></div><div class=\"sk-parallel\"><div class=\"sk-parallel-item\"><div class=\"sk-item\"><div class=\"sk-label-container\"><div class=\"sk-label sk-toggleable\"><input class=\"sk-toggleable__control sk-hidden--visually\" id=\"57c7f73c-1028-41ef-8704-b3f7a9729b06\" type=\"checkbox\" ><label class=\"sk-toggleable__label\" for=\"57c7f73c-1028-41ef-8704-b3f7a9729b06\">countvectorizer</label><div class=\"sk-toggleable__content\"><pre>AdminUnit</pre></div></div></div><div class=\"sk-serial\"><div class=\"sk-item\"><div class=\"sk-estimator sk-toggleable\"><input class=\"sk-toggleable__control sk-hidden--visually\" id=\"7dc96d6a-9aa0-409c-a412-eb36b768fe1e\" type=\"checkbox\" ><label class=\"sk-toggleable__label\" for=\"7dc96d6a-9aa0-409c-a412-eb36b768fe1e\">CountVectorizer</label><div class=\"sk-toggleable__content\"><pre>CountVectorizer()</pre></div></div></div></div></div></div><div class=\"sk-parallel-item\"><div class=\"sk-item\"><div class=\"sk-label-container\"><div class=\"sk-label sk-toggleable\"><input class=\"sk-toggleable__control sk-hidden--visually\" id=\"0a188e44-4a3f-4e6f-b508-ed34a6530fc8\" type=\"checkbox\" ><label class=\"sk-toggleable__label\" for=\"0a188e44-4a3f-4e6f-b508-ed34a6530fc8\">onehotencoder</label><div class=\"sk-toggleable__content\"><pre>['CalFireIncident', 'StartedYear', 'StartedMonth']</pre></div></div></div><div class=\"sk-serial\"><div class=\"sk-item\"><div class=\"sk-estimator sk-toggleable\"><input class=\"sk-toggleable__control sk-hidden--visually\" id=\"c6479417-aacd-4558-94c5-46b7560d2475\" type=\"checkbox\" ><label class=\"sk-toggleable__label\" for=\"c6479417-aacd-4558-94c5-46b7560d2475\">OneHotEncoder</label><div class=\"sk-toggleable__content\"><pre>OneHotEncoder(handle_unknown='ignore')</pre></div></div></div></div></div></div><div class=\"sk-parallel-item\"><div class=\"sk-item\"><div class=\"sk-label-container\"><div class=\"sk-label sk-toggleable\"><input class=\"sk-toggleable__control sk-hidden--visually\" id=\"487e04f2-953d-4772-8b68-9fd2d22dcd40\" type=\"checkbox\" ><label class=\"sk-toggleable__label\" for=\"487e04f2-953d-4772-8b68-9fd2d22dcd40\">pipeline</label><div class=\"sk-toggleable__content\"><pre>Index(['Latitude', 'Longitude', 'sunsetTime', 'moonPhase', 'precipIntensity',\n",
       "       'temperatureHigh', 'temperatureLow', 'dewPoint', 'humidity',\n",
       "       'windSpeed'],\n",
       "      dtype='object')</pre></div></div></div><div class=\"sk-serial\"><div class=\"sk-item\"><div class=\"sk-serial\"><div class=\"sk-item\"><div class=\"sk-estimator sk-toggleable\"><input class=\"sk-toggleable__control sk-hidden--visually\" id=\"a6972e11-7538-4d5b-a070-8c16b1338d2c\" type=\"checkbox\" ><label class=\"sk-toggleable__label\" for=\"a6972e11-7538-4d5b-a070-8c16b1338d2c\">SimpleImputer</label><div class=\"sk-toggleable__content\"><pre>SimpleImputer()</pre></div></div></div><div class=\"sk-item\"><div class=\"sk-estimator sk-toggleable\"><input class=\"sk-toggleable__control sk-hidden--visually\" id=\"afc1331a-ebf1-4e50-9ca6-f6f416221b0e\" type=\"checkbox\" ><label class=\"sk-toggleable__label\" for=\"afc1331a-ebf1-4e50-9ca6-f6f416221b0e\">StandardScaler</label><div class=\"sk-toggleable__content\"><pre>StandardScaler()</pre></div></div></div></div></div></div></div></div></div></div><div class=\"sk-item\"><div class=\"sk-estimator sk-toggleable\"><input class=\"sk-toggleable__control sk-hidden--visually\" id=\"0880de24-caa2-4e66-8835-8095d3b749b0\" type=\"checkbox\" ><label class=\"sk-toggleable__label\" for=\"0880de24-caa2-4e66-8835-8095d3b749b0\">TopFeatureSelector</label><div class=\"sk-toggleable__content\"><pre>TopFeatureSelector(feature_importances=array([2.92699463e-05, 5.12686192e-05, 4.49954465e-07, 3.79729149e-07,\n",
       "       1.65693854e-03, 1.70848091e-05, 5.11558052e-05, 7.18601723e-03,\n",
       "       2.11723186e-03, 6.54432358e-07, 3.28415561e-02, 4.63382688e-05,\n",
       "       1.31679734e-06, 3.99170334e-05, 5.83060668e-06, 4.11106183e-06,\n",
       "       4.72610098e-05, 6.36028366e-04, 1.12442395e-04, 2.53829322e-03,\n",
       "       9.70...\n",
       "       9.03006524e-03, 1.30080210e-02, 1.70461101e-03, 4.92161465e-05,\n",
       "       7.43068918e-03, 5.21670928e-04, 5.61845250e-07, 5.92402461e-06,\n",
       "       1.69648890e-02, 4.34380728e-03, 3.82210621e-06, 7.62437083e-04,\n",
       "       1.77831343e-03, 1.20546879e-03, 3.05456670e-03, 4.28536179e-02,\n",
       "       4.94542331e-02, 4.29214780e-02, 4.00932606e-02, 3.31027341e-02,\n",
       "       6.75672931e-02, 3.96764775e-02, 4.55811441e-02, 3.49375933e-02,\n",
       "       4.92809987e-02]),\n",
       "                   k=20)</pre></div></div></div><div class=\"sk-item\"><div class=\"sk-estimator sk-toggleable\"><input class=\"sk-toggleable__control sk-hidden--visually\" id=\"68dd8665-cbae-4e47-a59d-0e78afc6a3c9\" type=\"checkbox\" ><label class=\"sk-toggleable__label\" for=\"68dd8665-cbae-4e47-a59d-0e78afc6a3c9\">RandomForestRegressor</label><div class=\"sk-toggleable__content\"><pre>RandomForestRegressor(max_depth=90, max_features='sqrt', n_estimators=200)</pre></div></div></div></div></div></div></div>"
      ],
      "text/plain": [
       "Pipeline(steps=[('col_transformer',\n",
       "                 ColumnTransformer(transformers=[('countvectorizer',\n",
       "                                                  CountVectorizer(),\n",
       "                                                  'AdminUnit'),\n",
       "                                                 ('onehotencoder',\n",
       "                                                  OneHotEncoder(handle_unknown='ignore'),\n",
       "                                                  ['CalFireIncident',\n",
       "                                                   'StartedYear',\n",
       "                                                   'StartedMonth']),\n",
       "                                                 ('pipeline',\n",
       "                                                  Pipeline(steps=[('simpleimputer',\n",
       "                                                                   SimpleImputer()),\n",
       "                                                                  ('standardscaler',\n",
       "                                                                   StandardScaler())]),\n",
       "                                                  Index(['Latitude', 'Longitud...\n",
       "       7.43068918e-03, 5.21670928e-04, 5.61845250e-07, 5.92402461e-06,\n",
       "       1.69648890e-02, 4.34380728e-03, 3.82210621e-06, 7.62437083e-04,\n",
       "       1.77831343e-03, 1.20546879e-03, 3.05456670e-03, 4.28536179e-02,\n",
       "       4.94542331e-02, 4.29214780e-02, 4.00932606e-02, 3.31027341e-02,\n",
       "       6.75672931e-02, 3.96764775e-02, 4.55811441e-02, 3.49375933e-02,\n",
       "       4.92809987e-02]),\n",
       "                                    k=20)),\n",
       "                ('rf_reg',\n",
       "                 RandomForestRegressor(max_depth=90, max_features='sqrt',\n",
       "                                       n_estimators=200))])"
      ]
     },
     "execution_count": 45,
     "metadata": {},
     "output_type": "execute_result"
    }
   ],
   "source": [
    "# define pipeline\n",
    "full_pipeline = Pipeline([\n",
    "    ('col_transformer', col_tr),\n",
    "    ('feature_selection', TopFeatureSelector(feature_importances, k)),\n",
    "    ('rf_reg', RandomForestRegressor(**rf_grid.best_params_)),\n",
    "])\n",
    "\n",
    "# display pipeline diagram\n",
    "full_pipeline"
   ]
  },
  {
   "cell_type": "code",
   "execution_count": 40,
   "metadata": {
    "execution": {
     "iopub.execute_input": "2020-05-26T22:10:39.032277Z",
     "iopub.status.busy": "2020-05-26T22:10:39.032032Z",
     "iopub.status.idle": "2020-05-26T22:10:40.198453Z",
     "shell.execute_reply": "2020-05-26T22:10:40.197765Z",
     "shell.execute_reply.started": "2020-05-26T22:10:39.032248Z"
    }
   },
   "outputs": [
    {
     "name": "stdout",
     "output_type": "stream",
     "text": [
      "MAE = 1781\n",
      "RMSE = 7441\n",
      "R^2 = 0.855\n"
     ]
    }
   ],
   "source": [
    "# train model and print scores\n",
    "train_model(full_pipeline, X_tr);"
   ]
  },
  {
   "cell_type": "code",
   "execution_count": 41,
   "metadata": {
    "execution": {
     "iopub.execute_input": "2020-05-26T22:10:41.566820Z",
     "iopub.status.busy": "2020-05-26T22:10:41.566560Z",
     "iopub.status.idle": "2020-05-26T22:10:43.206755Z",
     "shell.execute_reply": "2020-05-26T22:10:43.206112Z",
     "shell.execute_reply.started": "2020-05-26T22:10:41.566791Z"
    }
   },
   "outputs": [
    {
     "name": "stdout",
     "output_type": "stream",
     "text": [
      "RMSE Scores - 10 fold\n",
      "* mean: 16139\n",
      "* std: 10433\n"
     ]
    }
   ],
   "source": [
    "# cross-validation\n",
    "cv_rmse_scores('Random Forest - K20', full_pipeline.named_steps.rf_reg, X_train)"
   ]
  },
  {
   "cell_type": "code",
   "execution_count": 42,
   "metadata": {
    "execution": {
     "iopub.execute_input": "2020-05-26T22:10:44.661665Z",
     "iopub.status.busy": "2020-05-26T22:10:44.661415Z",
     "iopub.status.idle": "2020-05-26T22:10:50.809766Z",
     "shell.execute_reply": "2020-05-26T22:10:50.809221Z",
     "shell.execute_reply.started": "2020-05-26T22:10:44.661635Z"
    }
   },
   "outputs": [],
   "source": [
    "# find optimal features\n",
    "param_grid = [{\n",
    "    'feature_selection__k': list(range(1, len(feature_importances) + 1))\n",
    "}]\n",
    "\n",
    "rf_grid_final = GridSearchCV(full_pipeline, param_grid, cv=5,\n",
    "                           scoring='neg_mean_squared_error', n_jobs=-1)\n",
    "\n",
    "# fit model\n",
    "rf_grid_final.fit(X_tr, y_train);"
   ]
  },
  {
   "cell_type": "markdown",
   "metadata": {},
   "source": [
    "## Final Model"
   ]
  },
  {
   "cell_type": "markdown",
   "metadata": {},
   "source": [
    "For our final model, we'll let the model find the best features rather than defining `k` on our own."
   ]
  },
  {
   "cell_type": "code",
   "execution_count": 46,
   "metadata": {
    "execution": {
     "iopub.execute_input": "2020-05-26T22:16:01.569103Z",
     "iopub.status.busy": "2020-05-26T22:16:01.568864Z",
     "iopub.status.idle": "2020-05-26T22:16:01.573391Z",
     "shell.execute_reply": "2020-05-26T22:16:01.572680Z",
     "shell.execute_reply.started": "2020-05-26T22:16:01.569076Z"
    }
   },
   "outputs": [],
   "source": [
    "k = rf_grid_final.best_params_.get('feature_selection__k')\n",
    "\n",
    "# define pipeline including column transformer, feature selection, and estimator\n",
    "full_pipeline = Pipeline([\n",
    "    ('col_transformer', col_tr),\n",
    "    ('feature_selection', TopFeatureSelector(feature_importances, k)),\n",
    "    ('rf_reg', RandomForestRegressor(**rf_grid.best_params_)),\n",
    "])"
   ]
  },
  {
   "cell_type": "code",
   "execution_count": 47,
   "metadata": {
    "execution": {
     "iopub.execute_input": "2020-05-26T22:16:03.042169Z",
     "iopub.status.busy": "2020-05-26T22:16:03.041889Z",
     "iopub.status.idle": "2020-05-26T22:16:03.758651Z",
     "shell.execute_reply": "2020-05-26T22:16:03.758053Z",
     "shell.execute_reply.started": "2020-05-26T22:16:03.042136Z"
    }
   },
   "outputs": [
    {
     "name": "stdout",
     "output_type": "stream",
     "text": [
      "MAE = 2442\n",
      "RMSE = 10517\n",
      "R^2 = 0.711\n"
     ]
    }
   ],
   "source": [
    "# train model and print scores\n",
    "train_model(full_pipeline, X_tr);"
   ]
  },
  {
   "cell_type": "code",
   "execution_count": 48,
   "metadata": {
    "execution": {
     "iopub.execute_input": "2020-05-26T22:16:11.831590Z",
     "iopub.status.busy": "2020-05-26T22:16:11.831358Z",
     "iopub.status.idle": "2020-05-26T22:16:14.131076Z",
     "shell.execute_reply": "2020-05-26T22:16:14.129833Z",
     "shell.execute_reply.started": "2020-05-26T22:16:11.831563Z"
    }
   },
   "outputs": [
    {
     "name": "stdout",
     "output_type": "stream",
     "text": [
      "RMSE Scores - 10 fold\n",
      "* mean: 16073\n",
      "* std: 10240\n"
     ]
    }
   ],
   "source": [
    "# cross-validation\n",
    "cv_rmse_scores(f'Random Forest - K{k}', full_pipeline.named_steps.rf_reg, X_train)"
   ]
  },
  {
   "cell_type": "code",
   "execution_count": 49,
   "metadata": {
    "execution": {
     "iopub.execute_input": "2020-05-26T22:16:21.938334Z",
     "iopub.status.busy": "2020-05-26T22:16:21.938089Z",
     "iopub.status.idle": "2020-05-26T22:16:21.949537Z",
     "shell.execute_reply": "2020-05-26T22:16:21.948964Z",
     "shell.execute_reply.started": "2020-05-26T22:16:21.938304Z"
    }
   },
   "outputs": [
    {
     "data": {
      "text/html": [
       "<div>\n",
       "<style scoped>\n",
       "    .dataframe tbody tr th:only-of-type {\n",
       "        vertical-align: middle;\n",
       "    }\n",
       "\n",
       "    .dataframe tbody tr th {\n",
       "        vertical-align: top;\n",
       "    }\n",
       "\n",
       "    .dataframe thead th {\n",
       "        text-align: right;\n",
       "    }\n",
       "</style>\n",
       "<table border=\"1\" class=\"dataframe\">\n",
       "  <thead>\n",
       "    <tr style=\"text-align: right;\">\n",
       "      <th></th>\n",
       "      <th>rmse</th>\n",
       "      <th>std</th>\n",
       "    </tr>\n",
       "  </thead>\n",
       "  <tbody>\n",
       "    <tr>\n",
       "      <th>Random Forest - Grid</th>\n",
       "      <td>16029</td>\n",
       "      <td>10302</td>\n",
       "    </tr>\n",
       "    <tr>\n",
       "      <th>Random Forest - K1</th>\n",
       "      <td>16073</td>\n",
       "      <td>10240</td>\n",
       "    </tr>\n",
       "    <tr>\n",
       "      <th>Random Forest - K20</th>\n",
       "      <td>16139</td>\n",
       "      <td>10433</td>\n",
       "    </tr>\n",
       "    <tr>\n",
       "      <th>Random Forest</th>\n",
       "      <td>18061</td>\n",
       "      <td>9984</td>\n",
       "    </tr>\n",
       "    <tr>\n",
       "      <th>Linear Regression</th>\n",
       "      <td>19726</td>\n",
       "      <td>8832</td>\n",
       "    </tr>\n",
       "    <tr>\n",
       "      <th>Decison Tree</th>\n",
       "      <td>24758</td>\n",
       "      <td>14149</td>\n",
       "    </tr>\n",
       "  </tbody>\n",
       "</table>\n",
       "</div>"
      ],
      "text/plain": [
       "                       rmse    std\n",
       "Random Forest - Grid  16029  10302\n",
       "Random Forest - K1    16073  10240\n",
       "Random Forest - K20   16139  10433\n",
       "Random Forest         18061   9984\n",
       "Linear Regression     19726   8832\n",
       "Decison Tree          24758  14149"
      ]
     },
     "execution_count": 49,
     "metadata": {},
     "output_type": "execute_result"
    }
   ],
   "source": [
    "# compare model performance\n",
    "pd.DataFrame.from_dict(training_model_performance, orient='index').sort_values('rmse')"
   ]
  },
  {
   "cell_type": "code",
   "execution_count": 51,
   "metadata": {
    "execution": {
     "iopub.execute_input": "2020-05-26T22:19:57.447019Z",
     "iopub.status.busy": "2020-05-26T22:19:57.446781Z",
     "iopub.status.idle": "2020-05-26T22:19:57.491579Z",
     "shell.execute_reply": "2020-05-26T22:19:57.491029Z",
     "shell.execute_reply.started": "2020-05-26T22:19:57.446991Z"
    }
   },
   "outputs": [
    {
     "name": "stdout",
     "output_type": "stream",
     "text": [
      "RMSE = 21675\n"
     ]
    }
   ],
   "source": [
    "# make final predictions\n",
    "final_predictions = rf_grid_final.best_estimator_.predict(X_test)\n",
    "\n",
    "# calculate RMSE score\n",
    "final_mse = mean_squared_error(y_test, final_predictions)\n",
    "final_rmse = np.sqrt(final_mse)\n",
    "print('RMSE =', int(final_rmse))"
   ]
  },
  {
   "cell_type": "code",
   "execution_count": 54,
   "metadata": {
    "execution": {
     "iopub.execute_input": "2020-05-26T22:20:57.763733Z",
     "iopub.status.busy": "2020-05-26T22:20:57.763497Z",
     "iopub.status.idle": "2020-05-26T22:20:57.772836Z",
     "shell.execute_reply": "2020-05-26T22:20:57.772206Z",
     "shell.execute_reply.started": "2020-05-26T22:20:57.763706Z"
    }
   },
   "outputs": [
    {
     "name": "stderr",
     "output_type": "stream",
     "text": [
      "/Users/miguel/anaconda3/envs/dev/lib/python3.7/site-packages/ipykernel_launcher.py:6: RuntimeWarning: invalid value encountered in sqrt\n",
      "  \n"
     ]
    },
    {
     "data": {
      "text/plain": [
       "array([           nan, 31076.80351803])"
      ]
     },
     "execution_count": 54,
     "metadata": {},
     "output_type": "execute_result"
    }
   ],
   "source": [
    "# compute 95% confidence interval for the test RMSE\n",
    "confidence = 0.95\n",
    "squared_errors = (final_predictions - y_test) ** 2\n",
    "np.sqrt(stats.t.interval(confidence, len(squared_errors) - 1,\n",
    "                         loc=squared_errors.mean(),\n",
    "                         scale=stats.sem(squared_errors)))"
   ]
  },
  {
   "cell_type": "code",
   "execution_count": 56,
   "metadata": {
    "execution": {
     "iopub.execute_input": "2020-05-26T22:21:32.500827Z",
     "iopub.status.busy": "2020-05-26T22:21:32.500594Z",
     "iopub.status.idle": "2020-05-26T22:21:32.540912Z",
     "shell.execute_reply": "2020-05-26T22:21:32.540369Z",
     "shell.execute_reply.started": "2020-05-26T22:21:32.500800Z"
    }
   },
   "outputs": [
    {
     "data": {
      "text/html": [
       "<div>\n",
       "<style scoped>\n",
       "    .dataframe tbody tr th:only-of-type {\n",
       "        vertical-align: middle;\n",
       "    }\n",
       "\n",
       "    .dataframe tbody tr th {\n",
       "        vertical-align: top;\n",
       "    }\n",
       "\n",
       "    .dataframe thead th {\n",
       "        text-align: right;\n",
       "    }\n",
       "</style>\n",
       "<table border=\"1\" class=\"dataframe\">\n",
       "  <thead>\n",
       "    <tr style=\"text-align: right;\">\n",
       "      <th></th>\n",
       "      <th>AdminUnit</th>\n",
       "      <th>CalFireIncident</th>\n",
       "      <th>StartedYear</th>\n",
       "      <th>StartedMonth</th>\n",
       "      <th>Latitude</th>\n",
       "      <th>Longitude</th>\n",
       "      <th>sunsetTime</th>\n",
       "      <th>moonPhase</th>\n",
       "      <th>precipIntensity</th>\n",
       "      <th>temperatureHigh</th>\n",
       "      <th>temperatureLow</th>\n",
       "      <th>dewPoint</th>\n",
       "      <th>humidity</th>\n",
       "      <th>windSpeed</th>\n",
       "      <th>AcresBurned</th>\n",
       "      <th>y_pred</th>\n",
       "    </tr>\n",
       "  </thead>\n",
       "  <tbody>\n",
       "    <tr>\n",
       "      <th>d40bee</th>\n",
       "      <td>US Forest Service - Los Padres National Forest</td>\n",
       "      <td>True</td>\n",
       "      <td>2017</td>\n",
       "      <td>December</td>\n",
       "      <td>34.415210</td>\n",
       "      <td>-119.091240</td>\n",
       "      <td>1512434820</td>\n",
       "      <td>0.56</td>\n",
       "      <td>0.0000</td>\n",
       "      <td>64.30</td>\n",
       "      <td>52.54</td>\n",
       "      <td>20.58</td>\n",
       "      <td>0.31</td>\n",
       "      <td>6.30</td>\n",
       "      <td>281893</td>\n",
       "      <td>76</td>\n",
       "    </tr>\n",
       "    <tr>\n",
       "      <th>5f6014</th>\n",
       "      <td>Unified Command: CAL FIRE, Butte County Sherif...</td>\n",
       "      <td>True</td>\n",
       "      <td>2018</td>\n",
       "      <td>November</td>\n",
       "      <td>39.813400</td>\n",
       "      <td>-121.434700</td>\n",
       "      <td>1541638680</td>\n",
       "      <td>0.02</td>\n",
       "      <td>0.0006</td>\n",
       "      <td>70.30</td>\n",
       "      <td>45.21</td>\n",
       "      <td>2.06</td>\n",
       "      <td>0.12</td>\n",
       "      <td>6.47</td>\n",
       "      <td>153336</td>\n",
       "      <td>1512</td>\n",
       "    </tr>\n",
       "    <tr>\n",
       "      <th>d61261</th>\n",
       "      <td>CAL FIRE / USFS - El Dorado National Forest</td>\n",
       "      <td>True</td>\n",
       "      <td>2014</td>\n",
       "      <td>September</td>\n",
       "      <td>38.805437</td>\n",
       "      <td>-120.629714</td>\n",
       "      <td>1410660960</td>\n",
       "      <td>0.69</td>\n",
       "      <td>0.0000</td>\n",
       "      <td>91.81</td>\n",
       "      <td>70.25</td>\n",
       "      <td>36.69</td>\n",
       "      <td>0.22</td>\n",
       "      <td>1.40</td>\n",
       "      <td>97717</td>\n",
       "      <td>262</td>\n",
       "    </tr>\n",
       "    <tr>\n",
       "      <th>308e42</th>\n",
       "      <td>CAL FIRE Madera-Mariposa-Merced Unit</td>\n",
       "      <td>True</td>\n",
       "      <td>2017</td>\n",
       "      <td>July</td>\n",
       "      <td>37.617570</td>\n",
       "      <td>-120.213210</td>\n",
       "      <td>1500261780</td>\n",
       "      <td>0.76</td>\n",
       "      <td>0.0019</td>\n",
       "      <td>98.56</td>\n",
       "      <td>69.77</td>\n",
       "      <td>51.16</td>\n",
       "      <td>0.33</td>\n",
       "      <td>4.02</td>\n",
       "      <td>81826</td>\n",
       "      <td>94664</td>\n",
       "    </tr>\n",
       "    <tr>\n",
       "      <th>ec7941</th>\n",
       "      <td>CAL FIRE Sonoma-Lake-Napa Unit</td>\n",
       "      <td>True</td>\n",
       "      <td>2019</td>\n",
       "      <td>October</td>\n",
       "      <td>38.792458</td>\n",
       "      <td>-122.780053</td>\n",
       "      <td>1571880180</td>\n",
       "      <td>0.85</td>\n",
       "      <td>0.0000</td>\n",
       "      <td>75.20</td>\n",
       "      <td>66.60</td>\n",
       "      <td>31.50</td>\n",
       "      <td>0.26</td>\n",
       "      <td>8.83</td>\n",
       "      <td>77758</td>\n",
       "      <td>704</td>\n",
       "    </tr>\n",
       "    <tr>\n",
       "      <th>...</th>\n",
       "      <td>...</td>\n",
       "      <td>...</td>\n",
       "      <td>...</td>\n",
       "      <td>...</td>\n",
       "      <td>...</td>\n",
       "      <td>...</td>\n",
       "      <td>...</td>\n",
       "      <td>...</td>\n",
       "      <td>...</td>\n",
       "      <td>...</td>\n",
       "      <td>...</td>\n",
       "      <td>...</td>\n",
       "      <td>...</td>\n",
       "      <td>...</td>\n",
       "      <td>...</td>\n",
       "      <td>...</td>\n",
       "    </tr>\n",
       "    <tr>\n",
       "      <th>3a5160</th>\n",
       "      <td>CAL FIRE/Riverside County Fire Department</td>\n",
       "      <td>True</td>\n",
       "      <td>2019</td>\n",
       "      <td>September</td>\n",
       "      <td>33.496633</td>\n",
       "      <td>-116.631106</td>\n",
       "      <td>1568167320</td>\n",
       "      <td>0.41</td>\n",
       "      <td>0.0006</td>\n",
       "      <td>73.17</td>\n",
       "      <td>51.46</td>\n",
       "      <td>44.82</td>\n",
       "      <td>0.55</td>\n",
       "      <td>6.31</td>\n",
       "      <td>10</td>\n",
       "      <td>200</td>\n",
       "    </tr>\n",
       "    <tr>\n",
       "      <th>3b2224</th>\n",
       "      <td>CAL FIRE Amador-El Dorado Unit</td>\n",
       "      <td>True</td>\n",
       "      <td>2017</td>\n",
       "      <td>August</td>\n",
       "      <td>38.344210</td>\n",
       "      <td>-120.722740</td>\n",
       "      <td>1503974400</td>\n",
       "      <td>0.25</td>\n",
       "      <td>0.0000</td>\n",
       "      <td>105.40</td>\n",
       "      <td>67.53</td>\n",
       "      <td>48.02</td>\n",
       "      <td>0.30</td>\n",
       "      <td>2.26</td>\n",
       "      <td>10</td>\n",
       "      <td>1649</td>\n",
       "    </tr>\n",
       "    <tr>\n",
       "      <th>b5b503</th>\n",
       "      <td>CAL FIRE / Butte County Fire</td>\n",
       "      <td>True</td>\n",
       "      <td>2019</td>\n",
       "      <td>April</td>\n",
       "      <td>39.839580</td>\n",
       "      <td>-121.957000</td>\n",
       "      <td>1556679720</td>\n",
       "      <td>0.88</td>\n",
       "      <td>0.0016</td>\n",
       "      <td>72.21</td>\n",
       "      <td>47.45</td>\n",
       "      <td>45.50</td>\n",
       "      <td>0.60</td>\n",
       "      <td>6.20</td>\n",
       "      <td>10</td>\n",
       "      <td>116</td>\n",
       "    </tr>\n",
       "    <tr>\n",
       "      <th>b17535</th>\n",
       "      <td>CAL FIRE / Riverside County Fire</td>\n",
       "      <td>True</td>\n",
       "      <td>2019</td>\n",
       "      <td>October</td>\n",
       "      <td>33.827979</td>\n",
       "      <td>-117.499619</td>\n",
       "      <td>1570757040</td>\n",
       "      <td>0.42</td>\n",
       "      <td>0.0001</td>\n",
       "      <td>80.02</td>\n",
       "      <td>61.67</td>\n",
       "      <td>24.48</td>\n",
       "      <td>0.37</td>\n",
       "      <td>7.14</td>\n",
       "      <td>9</td>\n",
       "      <td>105</td>\n",
       "    </tr>\n",
       "    <tr>\n",
       "      <th>a0d449</th>\n",
       "      <td>CAL FIRE Nevada-Yuba-Placer Unit</td>\n",
       "      <td>True</td>\n",
       "      <td>2019</td>\n",
       "      <td>June</td>\n",
       "      <td>39.409722</td>\n",
       "      <td>-121.000556</td>\n",
       "      <td>1561779360</td>\n",
       "      <td>0.87</td>\n",
       "      <td>0.0002</td>\n",
       "      <td>75.97</td>\n",
       "      <td>52.76</td>\n",
       "      <td>40.60</td>\n",
       "      <td>0.44</td>\n",
       "      <td>3.45</td>\n",
       "      <td>2</td>\n",
       "      <td>17556</td>\n",
       "    </tr>\n",
       "  </tbody>\n",
       "</table>\n",
       "<p>335 rows × 16 columns</p>\n",
       "</div>"
      ],
      "text/plain": [
       "                                                AdminUnit  CalFireIncident  \\\n",
       "d40bee    US Forest Service - Los Padres National Forest              True   \n",
       "5f6014  Unified Command: CAL FIRE, Butte County Sherif...             True   \n",
       "d61261        CAL FIRE / USFS - El Dorado National Forest             True   \n",
       "308e42               CAL FIRE Madera-Mariposa-Merced Unit             True   \n",
       "ec7941                     CAL FIRE Sonoma-Lake-Napa Unit             True   \n",
       "...                                                   ...              ...   \n",
       "3a5160          CAL FIRE/Riverside County Fire Department             True   \n",
       "3b2224                     CAL FIRE Amador-El Dorado Unit             True   \n",
       "b5b503                       CAL FIRE / Butte County Fire             True   \n",
       "b17535                   CAL FIRE / Riverside County Fire             True   \n",
       "a0d449                  CAL FIRE Nevada-Yuba-Placer Unit              True   \n",
       "\n",
       "       StartedYear StartedMonth   Latitude   Longitude  sunsetTime  moonPhase  \\\n",
       "d40bee        2017     December  34.415210 -119.091240  1512434820       0.56   \n",
       "5f6014        2018     November  39.813400 -121.434700  1541638680       0.02   \n",
       "d61261        2014    September  38.805437 -120.629714  1410660960       0.69   \n",
       "308e42        2017         July  37.617570 -120.213210  1500261780       0.76   \n",
       "ec7941        2019      October  38.792458 -122.780053  1571880180       0.85   \n",
       "...            ...          ...        ...         ...         ...        ...   \n",
       "3a5160        2019    September  33.496633 -116.631106  1568167320       0.41   \n",
       "3b2224        2017       August  38.344210 -120.722740  1503974400       0.25   \n",
       "b5b503        2019        April  39.839580 -121.957000  1556679720       0.88   \n",
       "b17535        2019      October  33.827979 -117.499619  1570757040       0.42   \n",
       "a0d449        2019         June  39.409722 -121.000556  1561779360       0.87   \n",
       "\n",
       "        precipIntensity  temperatureHigh  temperatureLow  dewPoint  humidity  \\\n",
       "d40bee           0.0000            64.30           52.54     20.58      0.31   \n",
       "5f6014           0.0006            70.30           45.21      2.06      0.12   \n",
       "d61261           0.0000            91.81           70.25     36.69      0.22   \n",
       "308e42           0.0019            98.56           69.77     51.16      0.33   \n",
       "ec7941           0.0000            75.20           66.60     31.50      0.26   \n",
       "...                 ...              ...             ...       ...       ...   \n",
       "3a5160           0.0006            73.17           51.46     44.82      0.55   \n",
       "3b2224           0.0000           105.40           67.53     48.02      0.30   \n",
       "b5b503           0.0016            72.21           47.45     45.50      0.60   \n",
       "b17535           0.0001            80.02           61.67     24.48      0.37   \n",
       "a0d449           0.0002            75.97           52.76     40.60      0.44   \n",
       "\n",
       "        windSpeed  AcresBurned  y_pred  \n",
       "d40bee       6.30       281893      76  \n",
       "5f6014       6.47       153336    1512  \n",
       "d61261       1.40        97717     262  \n",
       "308e42       4.02        81826   94664  \n",
       "ec7941       8.83        77758     704  \n",
       "...           ...          ...     ...  \n",
       "3a5160       6.31           10     200  \n",
       "3b2224       2.26           10    1649  \n",
       "b5b503       6.20           10     116  \n",
       "b17535       7.14            9     105  \n",
       "a0d449       3.45            2   17556  \n",
       "\n",
       "[335 rows x 16 columns]"
      ]
     },
     "execution_count": 56,
     "metadata": {},
     "output_type": "execute_result"
    }
   ],
   "source": [
    "# construct DataFrame with predictions & actuals\n",
    "x_tst = X_test.copy()\n",
    "x_tst['AcresBurned'] = y_test\n",
    "x_tst['y_pred'] = final_predictions.astype('int')\n",
    "\n",
    "# let's take a look\n",
    "x_tst.sort_values('AcresBurned', ascending=False)"
   ]
  },
  {
   "cell_type": "code",
   "execution_count": 58,
   "metadata": {
    "execution": {
     "iopub.execute_input": "2020-05-26T22:22:31.593706Z",
     "iopub.status.busy": "2020-05-26T22:22:31.593477Z",
     "iopub.status.idle": "2020-05-26T22:22:31.931980Z",
     "shell.execute_reply": "2020-05-26T22:22:31.931457Z",
     "shell.execute_reply.started": "2020-05-26T22:22:31.593679Z"
    }
   },
   "outputs": [
    {
     "data": {
      "text/plain": [
       "['../models/final_random_forest_regressor_pipe']"
      ]
     },
     "execution_count": 58,
     "metadata": {},
     "output_type": "execute_result"
    }
   ],
   "source": [
    "# save model for later use\n",
    "joblib.dump(rf_grid_final, '../models/final_random_forest_regressor_pipe')"
   ]
  },
  {
   "cell_type": "markdown",
   "metadata": {},
   "source": [
    "### Findings"
   ]
  },
  {
   "cell_type": "markdown",
   "metadata": {},
   "source": [
    "We knew from the data exploration step that this dataset isn't optimal as our target `AcresBurned` wasn't strongly correlated with any features. While our best features was `temperatureHigh`, it was dissapointing to see that the model chose to only include this feature in our final model, meaning that other features were mainly just noise.\n",
    "\n",
    "On the bright side, we built a pipeline that can be used to transform our dataset, choose the optimal features, and make predictions on future data points."
   ]
  },
  {
   "cell_type": "code",
   "execution_count": null,
   "metadata": {},
   "outputs": [],
   "source": []
  }
 ],
 "metadata": {
  "kernelspec": {
   "display_name": "dev",
   "language": "python",
   "name": "dev"
  },
  "language_info": {
   "codemirror_mode": {
    "name": "ipython",
    "version": 3
   },
   "file_extension": ".py",
   "mimetype": "text/x-python",
   "name": "python",
   "nbconvert_exporter": "python",
   "pygments_lexer": "ipython3",
   "version": "3.7.7"
  }
 },
 "nbformat": 4,
 "nbformat_minor": 4
}
